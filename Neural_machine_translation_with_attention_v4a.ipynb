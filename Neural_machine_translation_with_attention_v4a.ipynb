{
 "cells": [
  {
   "cell_type": "markdown",
   "metadata": {
    "id": "adTDe2CTh3MU"
   },
   "source": [
    "# Neural Machine Translation\n",
    "\n",
    "Welcome to your first programming assignment for this week! \n",
    "\n",
    "* You will build a Neural Machine Translation (NMT) model to translate human-readable dates (\"25th of June, 2009\") into machine-readable dates (\"2009-06-25\"). \n",
    "* You will do this using an attention model, one of the most sophisticated sequence-to-sequence models. \n",
    "\n",
    "This notebook was produced together with NVIDIA's Deep Learning Institute. \n",
    "\n",
    "## Important Note on Submission to the AutoGrader\n",
    "\n",
    "Before submitting your assignment to the AutoGrader, please make sure you are not doing the following:\n",
    "\n",
    "1. You have not added any _extra_ `print` statement(s) in the assignment.\n",
    "2. You have not added any _extra_ code cell(s) in the assignment.\n",
    "3. You have not changed any of the function parameters.\n",
    "4. You are not using any global variables inside your graded exercises. Unless specifically instructed to do so, please refrain from it and use the local variables instead.\n",
    "5. You are not changing the assignment code where it is not required, like creating _extra_ variables.\n",
    "\n",
    "If you do any of the following, you will get something like, `Grader not found` (or similarly unexpected) error upon submitting your assignment. Before asking for help/debugging the errors in your assignment, check for these first. If this is the case, and you don't remember the changes you have made, you can get a fresh copy of the assignment by following these [instructions](https://www.coursera.org/learn/nlp-sequence-models/supplement/qHIve/h-ow-to-refresh-your-workspace)."
   ]
  },
  {
   "cell_type": "markdown",
   "metadata": {
    "id": "0LCkjDBFh3Md"
   },
   "source": [
    "## Table of Contents\n",
    "\n",
    "- [Packages](#0)\n",
    "- [1 - Translating Human Readable Dates Into Machine Readable Dates](#1)\n",
    "    - [1.1 - Dataset](#1-1)\n",
    "- [2 - Neural Machine Translation with Attention](#2)\n",
    "    - [2.1 - Attention Mechanism](#2-1)\n",
    "        - [Exercise 1 - one_step_attention](#ex-1)\n",
    "        - [Exercise 2 - modelf](#ex-2)\n",
    "        - [Exercise 3 - Compile the Model](#ex-3)\n",
    "- [3 - Visualizing Attention (Optional / Ungraded)](#3)\n",
    "    - [3.1 - Getting the Attention Weights From the Network](#3-1)"
   ]
  },
  {
   "cell_type": "markdown",
   "metadata": {},
   "source": [
    "<a name='0'></a>\n",
    "## Packages"
   ]
  },
  {
   "cell_type": "code",
   "execution_count": 4,
   "metadata": {
    "colab": {
     "base_uri": "https://localhost:8080/"
    },
    "executionInfo": {
     "elapsed": 14508,
     "status": "ok",
     "timestamp": 1612468511651,
     "user": {
      "displayName": "Mubsi K",
      "photoUrl": "https://lh3.googleusercontent.com/a-/AOh14Gip7OjOkdNkKxKDyWEQAq1o8ccGN_HrBTGdqjgQ=s64",
      "userId": "08094225471505108399"
     },
     "user_tz": -300
    },
    "id": "RcBRMzPiiMmp",
    "outputId": "17e9a429-5bb6-4401-a23a-f8f756d6113d"
   },
   "outputs": [],
   "source": [
    "from tensorflow.keras.layers import Bidirectional, Concatenate, Permute, Dot, Input, LSTM, Multiply\n",
    "from tensorflow.keras.layers import RepeatVector, Dense, Activation, Lambda\n",
    "from tensorflow.keras.optimizers import Adam\n",
    "from tensorflow.keras.utils import to_categorical\n",
    "from tensorflow.keras.models import load_model, Model\n",
    "import tensorflow.keras.backend as K\n",
    "import tensorflow as tf\n",
    "import numpy as np\n",
    "\n",
    "from faker import Faker\n",
    "import random\n",
    "from tqdm import tqdm\n",
    "from babel.dates import format_date\n",
    "from nmt_utils import *\n",
    "import matplotlib.pyplot as plt\n",
    "%matplotlib inline"
   ]
  },
  {
   "cell_type": "markdown",
   "metadata": {
    "id": "J0pkH-k0h3Mf"
   },
   "source": [
    "<a name='1'></a>\n",
    "## 1 - Translating Human Readable Dates Into Machine Readable Dates\n",
    "\n",
    "* The model you will build here could be used to translate from one language to another, such as translating from English to Hindi. \n",
    "* However, language translation requires massive datasets and usually takes days of training on GPUs. \n",
    "* To give you a place to experiment with these models without using massive datasets, we will perform a simpler \"date translation\" task. \n",
    "* The network will input a date written in a variety of possible formats (*e.g. \"the 29th of August 1958\", \"03/30/1968\", \"24 JUNE 1987\"*) \n",
    "* The network will translate them into standardized, machine readable dates (*e.g. \"1958-08-29\", \"1968-03-30\", \"1987-06-24\"*). \n",
    "* We will have the network learn to output dates in the common machine-readable format YYYY-MM-DD. \n",
    "\n",
    "<!-- \n",
    "Take a look at [nmt_utils.py](./nmt_utils.py) to see all the formatting. Count and figure out how the formats work, you will need this knowledge later. !--> "
   ]
  },
  {
   "cell_type": "markdown",
   "metadata": {
    "id": "8BhEaJvph3Mf"
   },
   "source": [
    "<a name='1-1'></a>\n",
    "### 1.1 - Dataset\n",
    "\n",
    "We will train the model on a dataset of 10,000 human readable dates and their equivalent, standardized, machine readable dates. Let's run the following cells to load the dataset and print some examples. "
   ]
  },
  {
   "cell_type": "code",
   "execution_count": 5,
   "metadata": {
    "colab": {
     "base_uri": "https://localhost:8080/"
    },
    "executionInfo": {
     "elapsed": 16981,
     "status": "ok",
     "timestamp": 1612468514155,
     "user": {
      "displayName": "Mubsi K",
      "photoUrl": "https://lh3.googleusercontent.com/a-/AOh14Gip7OjOkdNkKxKDyWEQAq1o8ccGN_HrBTGdqjgQ=s64",
      "userId": "08094225471505108399"
     },
     "user_tz": -300
    },
    "id": "gwIf5l17h3Mg",
    "outputId": "1fca5fb8-3a9b-4a78-f726-7aef8e14ee41"
   },
   "outputs": [
    {
     "name": "stderr",
     "output_type": "stream",
     "text": [
      "100%|█████████████████████████████████████████████████████████████████████████| 10000/10000 [00:00<00:00, 13597.43it/s]\n"
     ]
    }
   ],
   "source": [
    "m = 10000\n",
    "dataset, human_vocab, machine_vocab, inv_machine_vocab = load_dataset(m)"
   ]
  },
  {
   "cell_type": "code",
   "execution_count": 6,
   "metadata": {
    "colab": {
     "base_uri": "https://localhost:8080/"
    },
    "executionInfo": {
     "elapsed": 16972,
     "status": "ok",
     "timestamp": 1612468514156,
     "user": {
      "displayName": "Mubsi K",
      "photoUrl": "https://lh3.googleusercontent.com/a-/AOh14Gip7OjOkdNkKxKDyWEQAq1o8ccGN_HrBTGdqjgQ=s64",
      "userId": "08094225471505108399"
     },
     "user_tz": -300
    },
    "id": "zCTqMyPch3Mg",
    "outputId": "42c9d8aa-d07b-4618-ab8a-4db4e1b971e2"
   },
   "outputs": [
    {
     "data": {
      "text/plain": [
       "[('9 may 1998', '1998-05-09'),\n",
       " ('10.11.19', '2019-11-10'),\n",
       " ('9/10/70', '1970-09-10'),\n",
       " ('saturday april 28 1990', '1990-04-28'),\n",
       " ('thursday january 26 1995', '1995-01-26'),\n",
       " ('monday march 7 1983', '1983-03-07'),\n",
       " ('sunday may 22 1988', '1988-05-22'),\n",
       " ('08 jul 2008', '2008-07-08'),\n",
       " ('8 sep 1999', '1999-09-08'),\n",
       " ('thursday january 1 1981', '1981-01-01')]"
      ]
     },
     "execution_count": 6,
     "metadata": {},
     "output_type": "execute_result"
    }
   ],
   "source": [
    "dataset[:10]"
   ]
  },
  {
   "cell_type": "markdown",
   "metadata": {
    "id": "ao4Ffrkxh3Mg"
   },
   "source": [
    "You've loaded:\n",
    "- `dataset`: a list of tuples of (human readable date, machine readable date).\n",
    "- `human_vocab`: a python dictionary mapping all characters used in the human readable dates to an integer-valued index.\n",
    "- `machine_vocab`: a python dictionary mapping all characters used in machine readable dates to an integer-valued index. \n",
    "    - **Note**: These indices are not necessarily consistent with `human_vocab`. \n",
    "- `inv_machine_vocab`: the inverse dictionary of `machine_vocab`, mapping from indices back to characters. \n",
    "\n",
    "Let's preprocess the data and map the raw text data into the index values. \n",
    "- We will set Tx=30 \n",
    "    - We assume Tx is the maximum length of the human readable date.\n",
    "    - If we get a longer input, we would have to truncate it.\n",
    "- We will set Ty=10\n",
    "    - \"YYYY-MM-DD\" is 10 characters long."
   ]
  },
  {
   "cell_type": "code",
   "execution_count": 7,
   "metadata": {
    "colab": {
     "base_uri": "https://localhost:8080/"
    },
    "executionInfo": {
     "elapsed": 16962,
     "status": "ok",
     "timestamp": 1612468514157,
     "user": {
      "displayName": "Mubsi K",
      "photoUrl": "https://lh3.googleusercontent.com/a-/AOh14Gip7OjOkdNkKxKDyWEQAq1o8ccGN_HrBTGdqjgQ=s64",
      "userId": "08094225471505108399"
     },
     "user_tz": -300
    },
    "id": "Qdso90EBh3Mg",
    "outputId": "0a364ad8-8b25-4de3-f036-d5d8e40bdf8c"
   },
   "outputs": [
    {
     "name": "stdout",
     "output_type": "stream",
     "text": [
      "X.shape: (10000, 30)\n",
      "Y.shape: (10000, 10)\n",
      "Xoh.shape: (10000, 30, 37)\n",
      "Yoh.shape: (10000, 10, 11)\n"
     ]
    }
   ],
   "source": [
    "Tx = 30\n",
    "Ty = 10\n",
    "X, Y, Xoh, Yoh = preprocess_data(dataset, human_vocab, machine_vocab, Tx, Ty)\n",
    "\n",
    "print(\"X.shape:\", X.shape)\n",
    "print(\"Y.shape:\", Y.shape)\n",
    "print(\"Xoh.shape:\", Xoh.shape)\n",
    "print(\"Yoh.shape:\", Yoh.shape)"
   ]
  },
  {
   "cell_type": "markdown",
   "metadata": {
    "id": "q9C0UY25h3Mh"
   },
   "source": [
    "You now have:\n",
    "- `X`: a processed version of the human readable dates in the training set.\n",
    "    - Each character in X is replaced by an index (integer) mapped to the character using `human_vocab`. \n",
    "    - Each date is padded to ensure a length of $T_x$ using a special character (< pad >). \n",
    "    - `X.shape = (m, Tx)` where m is the number of training examples in a batch.\n",
    "- `Y`: a processed version of the machine readable dates in the training set.\n",
    "    - Each character is replaced by the index (integer) it is mapped to in `machine_vocab`. \n",
    "    - `Y.shape = (m, Ty)`. \n",
    "- `Xoh`: one-hot version of `X`\n",
    "    - Each index in `X` is converted to the one-hot representation (if the index is 2, the one-hot version has the index position 2 set to 1, and the remaining positions are 0.\n",
    "    - `Xoh.shape = (m, Tx, len(human_vocab))`\n",
    "- `Yoh`: one-hot version of `Y`\n",
    "    - Each index in `Y` is converted to the one-hot representation. \n",
    "    - `Yoh.shape = (m, Ty, len(machine_vocab))`. \n",
    "    - `len(machine_vocab) = 11` since there are 10 numeric digits (0 to 9) and the `-` symbol."
   ]
  },
  {
   "cell_type": "markdown",
   "metadata": {
    "id": "N7qKvWrTh3Mh"
   },
   "source": [
    "* Let's also look at some examples of preprocessed training examples. \n",
    "* Feel free to play with `index` in the cell below to navigate the dataset and see how source/target dates are preprocessed. "
   ]
  },
  {
   "cell_type": "code",
   "execution_count": 8,
   "metadata": {
    "colab": {
     "base_uri": "https://localhost:8080/"
    },
    "executionInfo": {
     "elapsed": 16952,
     "status": "ok",
     "timestamp": 1612468514158,
     "user": {
      "displayName": "Mubsi K",
      "photoUrl": "https://lh3.googleusercontent.com/a-/AOh14Gip7OjOkdNkKxKDyWEQAq1o8ccGN_HrBTGdqjgQ=s64",
      "userId": "08094225471505108399"
     },
     "user_tz": -300
    },
    "id": "kUOayR4gh3Mh",
    "outputId": "d20994de-bbea-4cc7-ffaf-38a05974c9db"
   },
   "outputs": [
    {
     "name": "stdout",
     "output_type": "stream",
     "text": [
      "Source date: 9 may 1998\n",
      "Target date: 1998-05-09\n",
      "\n",
      "Source after preprocessing (indices): [12  0 24 13 34  0  4 12 12 11 36 36 36 36 36 36 36 36 36 36 36 36 36 36\n",
      " 36 36 36 36 36 36]\n",
      "Target after preprocessing (indices): [ 2 10 10  9  0  1  6  0  1 10]\n",
      "\n",
      "Source after preprocessing (one-hot): [[0. 0. 0. ... 0. 0. 0.]\n",
      " [1. 0. 0. ... 0. 0. 0.]\n",
      " [0. 0. 0. ... 0. 0. 0.]\n",
      " ...\n",
      " [0. 0. 0. ... 0. 0. 1.]\n",
      " [0. 0. 0. ... 0. 0. 1.]\n",
      " [0. 0. 0. ... 0. 0. 1.]]\n",
      "Target after preprocessing (one-hot): [[0. 0. 1. 0. 0. 0. 0. 0. 0. 0. 0.]\n",
      " [0. 0. 0. 0. 0. 0. 0. 0. 0. 0. 1.]\n",
      " [0. 0. 0. 0. 0. 0. 0. 0. 0. 0. 1.]\n",
      " [0. 0. 0. 0. 0. 0. 0. 0. 0. 1. 0.]\n",
      " [1. 0. 0. 0. 0. 0. 0. 0. 0. 0. 0.]\n",
      " [0. 1. 0. 0. 0. 0. 0. 0. 0. 0. 0.]\n",
      " [0. 0. 0. 0. 0. 0. 1. 0. 0. 0. 0.]\n",
      " [1. 0. 0. 0. 0. 0. 0. 0. 0. 0. 0.]\n",
      " [0. 1. 0. 0. 0. 0. 0. 0. 0. 0. 0.]\n",
      " [0. 0. 0. 0. 0. 0. 0. 0. 0. 0. 1.]]\n"
     ]
    }
   ],
   "source": [
    "index = 0\n",
    "print(\"Source date:\", dataset[index][0])\n",
    "print(\"Target date:\", dataset[index][1])\n",
    "print()\n",
    "print(\"Source after preprocessing (indices):\", X[index])\n",
    "print(\"Target after preprocessing (indices):\", Y[index])\n",
    "print()\n",
    "print(\"Source after preprocessing (one-hot):\", Xoh[index])\n",
    "print(\"Target after preprocessing (one-hot):\", Yoh[index])"
   ]
  },
  {
   "cell_type": "markdown",
   "metadata": {
    "id": "94o4RYbOh3Mi"
   },
   "source": [
    "<a name='2'></a>\n",
    "## 2 - Neural Machine Translation with Attention\n",
    "\n",
    "* If you had to translate a book's paragraph from French to English, you would not read the whole paragraph, then close the book and translate. \n",
    "* Even during the translation process, you would read/re-read and focus on the parts of the French paragraph corresponding to the parts of the English you are writing down. \n",
    "* The attention mechanism tells a Neural Machine Translation model where it should pay attention to at any step. \n",
    "\n",
    "<a name='2-1'></a>\n",
    "### 2.1 - Attention Mechanism\n",
    "\n",
    "In this part, you will implement the attention mechanism presented in the lecture videos. \n",
    "* Here is a figure to remind you how the model works. \n",
    "    * The diagram on the left shows the attention model. \n",
    "    * The diagram on the right shows what one \"attention\" step does to calculate the attention variables $\\alpha^{\\langle t, t' \\rangle}$.\n",
    "    * The attention variables $\\alpha^{\\langle t, t' \\rangle}$ are used to compute the context variable $context^{\\langle t \\rangle}$ for each timestep in the output ($t=1, \\ldots, T_y$). \n",
    "\n",
    "<table>\n",
    "<td> \n",
    "<img src=\"images/attn_model.png\" style=\"width:500;height:500px;\"> <br>\n",
    "</td> \n",
    "<td> \n",
    "<img src=\"images/attn_mechanism.png\" style=\"width:500;height:500px;\"> <br>\n",
    "</td> \n",
    "</table>\n",
    "<caption><center> **Figure 1**: Neural machine translation with attention</center></caption>\n"
   ]
  },
  {
   "cell_type": "markdown",
   "metadata": {
    "id": "b2TkQnykh3Mi"
   },
   "source": [
    "Here are some properties of the model that you may notice: \n",
    "\n",
    "#### Pre-attention and Post-attention LSTMs on both sides of the attention mechanism\n",
    "- There are two separate LSTMs in this model (see diagram on the left): pre-attention and post-attention LSTMs.\n",
    "- *Pre-attention* Bi-LSTM is the one at the bottom of the picture is a Bi-directional LSTM and comes *before* the attention mechanism.\n",
    "    - The attention mechanism is shown in the middle of the left-hand diagram.\n",
    "    - The pre-attention Bi-LSTM goes through $T_x$ time steps\n",
    "- *Post-attention* LSTM: at the top of the diagram comes *after* the attention mechanism. \n",
    "    - The post-attention LSTM goes through $T_y$ time steps. \n",
    "\n",
    "- The post-attention LSTM passes the hidden state $s^{\\langle t \\rangle}$ and cell state $c^{\\langle t \\rangle}$ from one time step to the next. "
   ]
  },
  {
   "cell_type": "markdown",
   "metadata": {
    "id": "JpznWuWqh3Mi"
   },
   "source": [
    "#### An LSTM has both a hidden state and cell state\n",
    "* In the lecture videos, we were using only a basic RNN for the post-attention sequence model\n",
    "    * This means that the state captured by the RNN was outputting only the hidden state $s^{\\langle t\\rangle}$. \n",
    "* In this assignment, we are using an LSTM instead of a basic RNN.\n",
    "    * So the LSTM has both the hidden state $s^{\\langle t\\rangle}$ and the cell state $c^{\\langle t\\rangle}$. "
   ]
  },
  {
   "cell_type": "markdown",
   "metadata": {
    "id": "85btUzl4h3Mj"
   },
   "source": [
    "#### Each time step does not use predictions from the previous time step\n",
    "* Unlike previous text generation examples earlier in the course, in this model, the post-attention LSTM at time $t$ does not take the previous time step's prediction $y^{\\langle t-1 \\rangle}$ as input.\n",
    "* The post-attention LSTM at time 't' only takes the hidden state $s^{\\langle t\\rangle}$ and cell state $c^{\\langle t\\rangle}$ as input. \n",
    "* We have designed the model this way because unlike language generation (where adjacent characters are highly correlated) there isn't as strong a dependency between the previous character and the next character in a YYYY-MM-DD date."
   ]
  },
  {
   "cell_type": "markdown",
   "metadata": {
    "id": "NYT3v7rUh3Mk"
   },
   "source": [
    "#### Concatenation of hidden states from the forward and backward pre-attention LSTMs\n",
    "- $\\overrightarrow{a}^{\\langle t \\rangle}$: hidden state of the forward-direction, pre-attention LSTM.\n",
    "- $\\overleftarrow{a}^{\\langle t \\rangle}$: hidden state of the backward-direction, pre-attention LSTM.\n",
    "- $a^{\\langle t \\rangle} = [\\overrightarrow{a}^{\\langle t \\rangle}, \\overleftarrow{a}^{\\langle t \\rangle}]$: the concatenation of the activations of both the forward-direction $\\overrightarrow{a}^{\\langle t \\rangle}$ and backward-directions $\\overleftarrow{a}^{\\langle t \\rangle}$ of the pre-attention Bi-LSTM. "
   ]
  },
  {
   "cell_type": "markdown",
   "metadata": {
    "id": "97GUKCqwh3Mk"
   },
   "source": [
    "#### Computing \"energies\" $e^{\\langle t, t' \\rangle}$ as a function of $s^{\\langle t-1 \\rangle}$ and $a^{\\langle t' \\rangle}$\n",
    "- Recall in the lesson videos \"Attention Model\", at time 6:45 to 8:16, the definition of \"e\" as a function of $s^{\\langle t-1 \\rangle}$ and $a^{\\langle t \\rangle}$.\n",
    "    - \"e\" is called the \"energies\" variable.\n",
    "    - $s^{\\langle t-1 \\rangle}$ is the hidden state of the post-attention LSTM\n",
    "    - $a^{\\langle t' \\rangle}$ is the hidden state of the pre-attention LSTM.\n",
    "    - $s^{\\langle t-1 \\rangle}$ and $a^{\\langle t \\rangle}$ are fed into a simple neural network, which learns the function to output $e^{\\langle t, t' \\rangle}$.\n",
    "    - $e^{\\langle t, t' \\rangle}$ is then used when computing the attention $\\alpha^{\\langle t, t' \\rangle}$ that $y^{\\langle t \\rangle}$ should pay to $a^{\\langle t' \\rangle}$."
   ]
  },
  {
   "cell_type": "markdown",
   "metadata": {
    "id": "scu_HnPNh3Mk"
   },
   "source": [
    "- The diagram on the right of figure 1 uses a `RepeatVector` node to copy $s^{\\langle t-1 \\rangle}$'s value $T_x$ times.\n",
    "- Then it uses `Concatenation` to concatenate $s^{\\langle t-1 \\rangle}$ and $a^{\\langle t \\rangle}$.\n",
    "- The concatenation of $s^{\\langle t-1 \\rangle}$ and $a^{\\langle t \\rangle}$ is fed into a \"Dense\" layer, which computes $e^{\\langle t, t' \\rangle}$. \n",
    "- $e^{\\langle t, t' \\rangle}$ is then passed through a softmax to compute $\\alpha^{\\langle t, t' \\rangle}$.\n",
    "- Note that the diagram doesn't explicitly show variable $e^{\\langle t, t' \\rangle}$, but $e^{\\langle t, t' \\rangle}$ is above the Dense layer and below the Softmax layer in the diagram in the right half of figure 1.\n",
    "- We'll explain how to use `RepeatVector` and `Concatenation` in Keras below. "
   ]
  },
  {
   "cell_type": "markdown",
   "metadata": {
    "id": "_ukmqe_Yh3Ml"
   },
   "source": [
    "#### Implementation Details\n",
    "   \n",
    "Let's implement this neural translator. You will start by implementing two functions: `one_step_attention()` and `model()`.\n",
    "\n",
    "#### one_step_attention\n",
    "* The inputs to the one_step_attention at time step $t$ are:\n",
    "    - $[a^{<1>},a^{<2>}, ..., a^{<T_x>}]$: all hidden states of the pre-attention Bi-LSTM.\n",
    "    - $s^{<t-1>}$: the previous hidden state of the post-attention LSTM \n",
    "* one_step_attention computes:\n",
    "    - $[\\alpha^{<t,1>},\\alpha^{<t,2>}, ..., \\alpha^{<t,T_x>}]$: the attention weights\n",
    "    - $context^{ \\langle t \\rangle }$: the context vector:\n",
    "    \n",
    "$$context^{<t>} = \\sum_{t' = 1}^{T_x} \\alpha^{<t,t'>}a^{<t'>}\\tag{1}$$ \n",
    "\n",
    "##### Clarifying 'context' and 'c'\n",
    "- In the lecture videos, the context was denoted $c^{\\langle t \\rangle}$\n",
    "- In the assignment, we are calling the context $context^{\\langle t \\rangle}$.\n",
    "    - This is to avoid confusion with the post-attention LSTM's internal memory cell variable, which is also denoted $c^{\\langle t \\rangle}$."
   ]
  },
  {
   "cell_type": "markdown",
   "metadata": {
    "id": "LIfLKkwoh3Ml"
   },
   "source": [
    "<a name='ex-1'></a>\n",
    "### Exercise 1 - one_step_attention \n",
    "\n",
    "Implement `one_step_attention()`. \n",
    "\n",
    "* The function `model()` will call the layers in `one_step_attention()` $T_y$ times using a for-loop.\n",
    "* It is important that all $T_y$ copies have the same weights. \n",
    "    * It should not reinitialize the weights every time. \n",
    "    * In other words, all $T_y$ steps should have shared weights. \n",
    "* Here's how you can implement layers with shareable weights in Keras:\n",
    "    1. Define the layer objects in a variable scope that is outside of the `one_step_attention` function.  For example, defining the objects as global variables would work.\n",
    "        - Note that defining these variables inside the scope of the function `model` would technically work, since `model` will then call the `one_step_attention` function.  For the purposes of making grading and troubleshooting easier, we are defining these as global variables.  Note that the automatic grader will expect these to be global variables as well.\n",
    "    2. Call these objects when propagating the input.\n",
    "* We have defined the layers you need as global variables. \n",
    "    * Please run the following cells to create them. \n",
    "    * Please note that the automatic grader expects these global variables with the given variable names.  For grading purposes, please do not rename the global variables.\n",
    "* Please check the Keras documentation to learn more about these layers.  The layers are functions.  Below are examples of how to call these functions.\n",
    "    * [RepeatVector()](https://www.tensorflow.org/api_docs/python/tf/keras/layers/RepeatVector)\n",
    "```Python\n",
    "var_repeated = repeat_layer(var1)\n",
    "```\n",
    "    * [Concatenate()](https://www.tensorflow.org/api_docs/python/tf/keras/layers/Concatenate)   \n",
    "```Python\n",
    "concatenated_vars = concatenate_layer([var1,var2,var3])\n",
    "```\n",
    "    * [Dense()](https://keras.io/layers/core/#dense)  \n",
    "```Python\n",
    "var_out = dense_layer(var_in)\n",
    "```\n",
    "    * [Activation()](https://keras.io/layers/core/#activation)  \n",
    "```Python\n",
    "activation = activation_layer(var_in)  \n",
    "```\n",
    "    * [Dot()](https://www.tensorflow.org/api_docs/python/tf/keras/layers/Dot)  \n",
    "```Python\n",
    "dot_product = dot_layer([var1,var2])\n",
    "```"
   ]
  },
  {
   "cell_type": "code",
   "execution_count": 9,
   "metadata": {
    "executionInfo": {
     "elapsed": 16950,
     "status": "ok",
     "timestamp": 1612468514158,
     "user": {
      "displayName": "Mubsi K",
      "photoUrl": "https://lh3.googleusercontent.com/a-/AOh14Gip7OjOkdNkKxKDyWEQAq1o8ccGN_HrBTGdqjgQ=s64",
      "userId": "08094225471505108399"
     },
     "user_tz": -300
    },
    "id": "Cvop5Apyh3Mm"
   },
   "outputs": [],
   "source": [
    "# Defined shared layers as global variables\n",
    "repeator = RepeatVector(Tx)\n",
    "concatenator = Concatenate(axis=-1)\n",
    "densor1 = Dense(10, activation = \"tanh\")\n",
    "densor2 = Dense(1, activation = \"relu\")\n",
    "activator = Activation(softmax, name='attention_weights') # We are using a custom softmax(axis = 1) loaded in this notebook\n",
    "dotor = Dot(axes = 1)"
   ]
  },
  {
   "cell_type": "code",
   "execution_count": 10,
   "metadata": {
    "executionInfo": {
     "elapsed": 16950,
     "status": "ok",
     "timestamp": 1612468514159,
     "user": {
      "displayName": "Mubsi K",
      "photoUrl": "https://lh3.googleusercontent.com/a-/AOh14Gip7OjOkdNkKxKDyWEQAq1o8ccGN_HrBTGdqjgQ=s64",
      "userId": "08094225471505108399"
     },
     "user_tz": -300
    },
    "id": "mZuMOnTDh3Mn"
   },
   "outputs": [],
   "source": [
    "# UNQ_C1 (UNIQUE CELL IDENTIFIER, DO NOT EDIT)\n",
    "# GRADED FUNCTION: one_step_attention\n",
    "\n",
    "def one_step_attention(a, s_prev):\n",
    "    \"\"\"\n",
    "    Performs one step of attention: Outputs a context vector computed as a dot product of the attention weights\n",
    "    \"alphas\" and the hidden states \"a\" of the Bi-LSTM.\n",
    "    \n",
    "    Arguments:\n",
    "    a -- hidden state output of the Bi-LSTM, numpy-array of shape (m, Tx, 2*n_a)\n",
    "    s_prev -- previous hidden state of the (post-attention) LSTM, numpy-array of shape (m, n_s)\n",
    "    \n",
    "    Returns:\n",
    "    context -- context vector, input of the next (post-attention) LSTM cell\n",
    "    \"\"\"\n",
    "    \n",
    "    ### START CODE HERE ###\n",
    "    # Use repeator to repeat s_prev to be of shape (m, Tx, n_s) so that you can concatenate it with all hidden states \"a\" (≈ 1 line)\n",
    "    s_prev = repeator(s_prev)\n",
    "    # Use concatenator to concatenate a and s_prev on the last axis (≈ 1 line)\n",
    "    # For grading purposes, please list 'a' first and 's_prev' second, in this order.\n",
    "    concat = concatenator([a, s_prev])\n",
    "    # Use densor1 to propagate concat through a small fully-connected neural network to compute the \"intermediate energies\" variable e. (≈1 lines)\n",
    "    e = densor1(concat)\n",
    "    # Use densor2 to propagate e through a small fully-connected neural network to compute the \"energies\" variable energies. (≈1 lines)\n",
    "    energies = densor2(e)\n",
    "    # Use \"activator\" on \"energies\" to compute the attention weights \"alphas\" (≈ 1 line)\n",
    "    alphas = activator(energies)\n",
    "    # Use dotor together with \"alphas\" and \"a\", in this order, to compute the context vector to be given to the next (post-attention) LSTM-cell (≈ 1 line)\n",
    "    context = dotor([alphas, a])\n",
    "    ### END CODE HERE ###\n",
    "    \n",
    "    return context"
   ]
  },
  {
   "cell_type": "code",
   "execution_count": 11,
   "metadata": {},
   "outputs": [
    {
     "ename": "AttributeError",
     "evalue": "module 'tensorflow' has no attribute 'python'",
     "output_type": "error",
     "traceback": [
      "\u001b[1;31m---------------------------------------------------------------------------\u001b[0m",
      "\u001b[1;31mAttributeError\u001b[0m                            Traceback (most recent call last)",
      "Input \u001b[1;32mIn [11]\u001b[0m, in \u001b[0;36m<cell line: 21>\u001b[1;34m()\u001b[0m\n\u001b[0;32m     18\u001b[0m     \u001b[38;5;66;03m#assert np.allclose(context[0][0][0:5].numpy(), [0.50877404, 0.57160693, 0.45448175, 0.50074816, 0.53651875]), \"Unexpected values in the result\"\u001b[39;00m\n\u001b[0;32m     19\u001b[0m     \u001b[38;5;28mprint\u001b[39m(\u001b[38;5;124m\"\u001b[39m\u001b[38;5;130;01m\\033\u001b[39;00m\u001b[38;5;124m[92mAll tests passed!\u001b[39m\u001b[38;5;124m\"\u001b[39m)\n\u001b[1;32m---> 21\u001b[0m \u001b[43mone_step_attention_test\u001b[49m\u001b[43m(\u001b[49m\u001b[43mone_step_attention\u001b[49m\u001b[43m)\u001b[49m\n",
      "Input \u001b[1;32mIn [11]\u001b[0m, in \u001b[0;36mone_step_attention_test\u001b[1;34m(target)\u001b[0m\n\u001b[0;32m     10\u001b[0m s_prev \u001b[38;5;241m=\u001b[39mnp\u001b[38;5;241m.\u001b[39mrandom\u001b[38;5;241m.\u001b[39muniform(\u001b[38;5;241m1\u001b[39m, \u001b[38;5;241m0\u001b[39m, (m, n_s))\u001b[38;5;241m.\u001b[39mastype(np\u001b[38;5;241m.\u001b[39mfloat32) \u001b[38;5;241m*\u001b[39m \u001b[38;5;241m1\u001b[39m\n\u001b[0;32m     11\u001b[0m context \u001b[38;5;241m=\u001b[39m target(a, s_prev)\n\u001b[1;32m---> 13\u001b[0m \u001b[38;5;28;01massert\u001b[39;00m \u001b[38;5;28mtype\u001b[39m(context) \u001b[38;5;241m==\u001b[39m \u001b[43mtf\u001b[49m\u001b[38;5;241;43m.\u001b[39;49m\u001b[43mpython\u001b[49m\u001b[38;5;241m.\u001b[39mframework\u001b[38;5;241m.\u001b[39mops\u001b[38;5;241m.\u001b[39mEagerTensor, \u001b[38;5;124m\"\u001b[39m\u001b[38;5;124mUnexpected type. It should be a Tensor\u001b[39m\u001b[38;5;124m\"\u001b[39m\n\u001b[0;32m     14\u001b[0m \u001b[38;5;28;01massert\u001b[39;00m \u001b[38;5;28mtuple\u001b[39m(context\u001b[38;5;241m.\u001b[39mshape) \u001b[38;5;241m==\u001b[39m (m, \u001b[38;5;241m1\u001b[39m, n_s), \u001b[38;5;124m\"\u001b[39m\u001b[38;5;124mUnexpected output shape\u001b[39m\u001b[38;5;124m\"\u001b[39m\n\u001b[0;32m     15\u001b[0m \u001b[38;5;28;01massert\u001b[39;00m np\u001b[38;5;241m.\u001b[39mall(context\u001b[38;5;241m.\u001b[39mnumpy() \u001b[38;5;241m>\u001b[39m \u001b[38;5;241m0\u001b[39m), \u001b[38;5;124m\"\u001b[39m\u001b[38;5;124mAll output values must be > 0 in this example\u001b[39m\u001b[38;5;124m\"\u001b[39m\n",
      "\u001b[1;31mAttributeError\u001b[0m: module 'tensorflow' has no attribute 'python'"
     ]
    }
   ],
   "source": [
    "# # UNIT TEST\n",
    "# def one_step_attention_test(target):\n",
    "\n",
    "#     m = 10\n",
    "#     Tx = 30\n",
    "#     n_a = 32\n",
    "#     n_s = 64\n",
    "#     #np.random.seed(10)\n",
    "#     a = np.random.uniform(1, 0, (m, Tx, 2 * n_a)).astype(np.float32)\n",
    "#     s_prev =np.random.uniform(1, 0, (m, n_s)).astype(np.float32) * 1\n",
    "#     context = target(a, s_prev)\n",
    "    \n",
    "#     assert type(context) == tf.python.framework.ops.EagerTensor, \"Unexpected type. It should be a Tensor\"\n",
    "#     assert tuple(context.shape) == (m, 1, n_s), \"Unexpected output shape\"\n",
    "#     assert np.all(context.numpy() > 0), \"All output values must be > 0 in this example\"\n",
    "#     assert np.all(context.numpy() < 1), \"All output values must be < 1 in this example\"\n",
    "\n",
    "#     #assert np.allclose(context[0][0][0:5].numpy(), [0.50877404, 0.57160693, 0.45448175, 0.50074816, 0.53651875]), \"Unexpected values in the result\"\n",
    "#     print(\"\\033[92mAll tests passed!\")\n",
    "    \n",
    "# one_step_attention_test(one_step_attention)"
   ]
  },
  {
   "cell_type": "markdown",
   "metadata": {
    "id": "vcmC3WcQh3Mn"
   },
   "source": [
    "<a name='ex-2'></a>\n",
    "### Exercise 2 - modelf\n",
    "\n",
    "Implement `modelf()` as explained in figure 1 and the instructions:\n",
    "\n",
    "* `modelf` first runs the input through a Bi-LSTM to get $[a^{<1>},a^{<2>}, ..., a^{<T_x>}]$. \n",
    "* Then, `modelf` calls `one_step_attention()` $T_y$ times using a `for` loop.  At each iteration of this loop:\n",
    "    - It gives the computed context vector $context^{<t>}$ to the post-attention LSTM.\n",
    "    - It runs the output of the post-attention LSTM through a dense layer with softmax activation.\n",
    "    - The softmax generates a prediction $\\hat{y}^{<t>}$.\n",
    "    \n",
    "Again, we have defined global layers that will share weights to be used in `modelf()`."
   ]
  },
  {
   "cell_type": "code",
   "execution_count": 12,
   "metadata": {
    "executionInfo": {
     "elapsed": 16949,
     "status": "ok",
     "timestamp": 1612468514159,
     "user": {
      "displayName": "Mubsi K",
      "photoUrl": "https://lh3.googleusercontent.com/a-/AOh14Gip7OjOkdNkKxKDyWEQAq1o8ccGN_HrBTGdqjgQ=s64",
      "userId": "08094225471505108399"
     },
     "user_tz": -300
    },
    "id": "5RHgmZrVh3Mo"
   },
   "outputs": [],
   "source": [
    "n_a = 32 # number of units for the pre-attention, bi-directional LSTM's hidden state 'a'\n",
    "n_s = 64 # number of units for the post-attention LSTM's hidden state \"s\"\n",
    "\n",
    "# Please note, this is the post attention LSTM cell.  \n",
    "post_activation_LSTM_cell = LSTM(n_s, return_state = True) # Please do not modify this global variable.\n",
    "output_layer = Dense(len(machine_vocab), activation=softmax)"
   ]
  },
  {
   "cell_type": "markdown",
   "metadata": {
    "id": "lGkKpb1Nh3Mo"
   },
   "source": [
    "Now you can use these layers $T_y$ times in a `for` loop to generate the outputs, and their parameters will not be reinitialized. You will have to carry out the following steps: \n",
    "\n",
    "1. Propagate the input `X` into a bi-directional LSTM.\n",
    "    * [Bidirectional](https://keras.io/layers/wrappers/#bidirectional) \n",
    "    * [LSTM](https://keras.io/layers/recurrent/#lstm)\n",
    "    * Remember that we want the LSTM to return a full sequence instead of just the last hidden state.  \n",
    "    \n",
    "Sample code:\n",
    "\n",
    "```Python\n",
    "sequence_of_hidden_states = Bidirectional(LSTM(units=..., return_sequences=...))(the_input_X)\n",
    "```\n",
    "    \n",
    "2. Iterate for $t = 0, \\cdots, T_y-1$: \n",
    "    1. Call `one_step_attention()`, passing in the sequence of hidden states $[a^{\\langle 1 \\rangle},a^{\\langle 2 \\rangle}, ..., a^{ \\langle T_x \\rangle}]$ from the pre-attention bi-directional LSTM, and the previous hidden state $s^{<t-1>}$ from the post-attention LSTM to calculate the context vector $context^{<t>}$.\n",
    "    2. Give $context^{<t>}$ to the post-attention LSTM cell. \n",
    "        - Remember to pass in the previous hidden-state $s^{\\langle t-1\\rangle}$ and cell-states $c^{\\langle t-1\\rangle}$ of this LSTM \n",
    "        * This outputs the new hidden state $s^{<t>}$ and the new cell state $c^{<t>}$.  \n",
    "\n",
    "        Sample code:\n",
    "        ```Python\n",
    "        next_hidden_state, _ , next_cell_state = \n",
    "            post_activation_LSTM_cell(inputs=..., initial_state=[prev_hidden_state, prev_cell_state])\n",
    "        ```   \n",
    "        Please note that the layer is actually the \"post attention LSTM cell\".  For the purposes of passing the automatic grader, please do not modify the naming of this global variable.  This will be fixed when we deploy updates to the automatic grader.\n",
    "    3. Apply a dense, softmax layer to $s^{<t>}$, get the output.  \n",
    "        Sample code:\n",
    "        ```Python\n",
    "        output = output_layer(inputs=...)\n",
    "        ```\n",
    "    4. Save the output by adding it to the list of outputs.\n",
    "\n",
    "3. Create your Keras model instance.\n",
    "    * It should have three inputs:\n",
    "        * `X`, the one-hot encoded inputs to the model, of shape ($T_{x}, humanVocabSize)$\n",
    "        * $s^{\\langle 0 \\rangle}$, the initial hidden state of the post-attention LSTM\n",
    "        * $c^{\\langle 0 \\rangle}$, the initial cell state of the post-attention LSTM\n",
    "    * The output is the list of outputs.  \n",
    "    Sample code\n",
    "    ```Python\n",
    "    model = Model(inputs=[...,...,...], outputs=...)\n",
    "    ```"
   ]
  },
  {
   "cell_type": "code",
   "execution_count": 13,
   "metadata": {
    "executionInfo": {
     "elapsed": 16948,
     "status": "ok",
     "timestamp": 1612468514160,
     "user": {
      "displayName": "Mubsi K",
      "photoUrl": "https://lh3.googleusercontent.com/a-/AOh14Gip7OjOkdNkKxKDyWEQAq1o8ccGN_HrBTGdqjgQ=s64",
      "userId": "08094225471505108399"
     },
     "user_tz": -300
    },
    "id": "qeKbeDOvh3Mo"
   },
   "outputs": [],
   "source": [
    "# UNQ_C2 (UNIQUE CELL IDENTIFIER, DO NOT EDIT)\n",
    "# GRADED FUNCTION: model\n",
    "\n",
    "def modelf(Tx, Ty, n_a, n_s, human_vocab_size, machine_vocab_size):\n",
    "    \"\"\"\n",
    "    Arguments:\n",
    "    Tx -- length of the input sequence\n",
    "    Ty -- length of the output sequence\n",
    "    n_a -- hidden state size of the Bi-LSTM\n",
    "    n_s -- hidden state size of the post-attention LSTM\n",
    "    human_vocab_size -- size of the python dictionary \"human_vocab\"\n",
    "    machine_vocab_size -- size of the python dictionary \"machine_vocab\"\n",
    "\n",
    "    Returns:\n",
    "    model -- Keras model instance\n",
    "    \"\"\"\n",
    "    \n",
    "    # Define the inputs of your model with a shape (Tx,)\n",
    "    # Define s0 (initial hidden state) and c0 (initial cell state)\n",
    "    # for the decoder LSTM with shape (n_s,)\n",
    "    X = Input(shape=(Tx, human_vocab_size))\n",
    "    s0 = Input(shape=(n_s,), name='s0')\n",
    "    c0 = Input(shape=(n_s,), name='c0')\n",
    "    s = s0\n",
    "    c = c0\n",
    "    \n",
    "    # Initialize empty list of outputs\n",
    "    outputs = []\n",
    "    \n",
    "    ### START CODE HERE ###\n",
    "    \n",
    "    # Step 1: Define your pre-attention Bi-LSTM. (≈ 1 line)\n",
    "    a =  Bidirectional(LSTM(n_a, return_sequences=True))(X)    \n",
    "    \n",
    "    # Step 2: Iterate for Ty steps\n",
    "    for t in range(Ty):\n",
    "    \n",
    "        # Step 2.A: Perform one step of the attention mechanism to get back the context vector at step t (≈ 1 line)\n",
    "        context = one_step_attention(a, s)\n",
    "        \n",
    "        # Step 2.B: Apply the post-attention LSTM cell to the \"context\" vector.\n",
    "        # Don't forget to pass: initial_state = [hidden state, cell state] (≈ 1 line)\n",
    "        s, _, c = post_activation_LSTM_cell(context, initial_state=[s,c])\n",
    "        \n",
    "        # Step 2.C: Apply Dense layer to the hidden state output of the post-attention LSTM (≈ 1 line)\n",
    "        out = output_layer(s)\n",
    "        \n",
    "        # Step 2.D: Append \"out\" to the \"outputs\" list (≈ 1 line)\n",
    "        outputs.append(out)\n",
    "    \n",
    "    # Step 3: Create model instance taking three inputs and returning the list of outputs. (≈ 1 line)\n",
    "    model = Model(inputs=[X, s0, c0], outputs=outputs)\n",
    "    \n",
    "    ### END CODE HERE ###\n",
    "    \n",
    "    return model"
   ]
  },
  {
   "cell_type": "code",
   "execution_count": 14,
   "metadata": {},
   "outputs": [
    {
     "name": "stdout",
     "output_type": "stream",
     "text": [
      "[['InputLayer', [(None, 30, 37)], 0], ['InputLayer', [(None, 64)], 0], ['Bidirectional', (None, 30, 64), 17920], ['RepeatVector', (None, 30, 64), 0, 30], ['Concatenate', (None, 30, 128), 0], ['Dense', (None, 30, 10), 1290, 'tanh'], ['Dense', (None, 30, 1), 11, 'relu'], ['Activation', (None, 30, 1), 0], ['Dot', (None, 1, 64), 0], ['InputLayer', [(None, 64)], 0], ['LSTM', [(None, 64), (None, 64), (None, 64)], 33024, [(None, 1, 64), (None, 64), (None, 64)], 'tanh'], ['Dense', (None, 11), 715, 'softmax']]\n",
      "\u001b[32mAll tests passed!\u001b[0m\n"
     ]
    }
   ],
   "source": [
    "# UNIT TEST\n",
    "from test_utils import *\n",
    "\n",
    "def modelf_test(target):\n",
    "    m = 10\n",
    "    Tx = 30\n",
    "    n_a = 32\n",
    "    n_s = 64\n",
    "    len_human_vocab = 37\n",
    "    len_machine_vocab = 11\n",
    "    \n",
    "    \n",
    "    model = target(Tx, Ty, n_a, n_s, len_human_vocab, len_machine_vocab)\n",
    "    \n",
    "    print(summary(model))\n",
    "\n",
    "    \n",
    "    expected_summary = [['InputLayer', [(None, 30, 37)], 0],\n",
    "                         ['InputLayer', [(None, 64)], 0],\n",
    "                         ['Bidirectional', (None, 30, 64), 17920],\n",
    "                         ['RepeatVector', (None, 30, 64), 0, 30],\n",
    "                         ['Concatenate', (None, 30, 128), 0],\n",
    "                         ['Dense', (None, 30, 10), 1290, 'tanh'],\n",
    "                         ['Dense', (None, 30, 1), 11, 'relu'],\n",
    "                         ['Activation', (None, 30, 1), 0],\n",
    "                         ['Dot', (None, 1, 64), 0],\n",
    "                         ['InputLayer', [(None, 64)], 0],\n",
    "                         ['LSTM',[(None, 64), (None, 64), (None, 64)], 33024,[(None, 1, 64), (None, 64), (None, 64)],'tanh'],\n",
    "                         ['Dense', (None, 11), 715, 'softmax']]\n",
    "\n",
    "    assert len(model.outputs) == 10, f\"Wrong output shape. Expected 10 != {len(model.outputs)}\"\n",
    "\n",
    "    comparator(summary(model), expected_summary)\n",
    "    \n",
    "\n",
    "modelf_test(modelf)"
   ]
  },
  {
   "cell_type": "markdown",
   "metadata": {
    "id": "--RX7hSsh3Mo"
   },
   "source": [
    "Run the following cell to create your model."
   ]
  },
  {
   "cell_type": "code",
   "execution_count": 15,
   "metadata": {
    "executionInfo": {
     "elapsed": 20837,
     "status": "ok",
     "timestamp": 1612468518050,
     "user": {
      "displayName": "Mubsi K",
      "photoUrl": "https://lh3.googleusercontent.com/a-/AOh14Gip7OjOkdNkKxKDyWEQAq1o8ccGN_HrBTGdqjgQ=s64",
      "userId": "08094225471505108399"
     },
     "user_tz": -300
    },
    "id": "psdd-Ac6h3Mp"
   },
   "outputs": [],
   "source": [
    "model = modelf(Tx, Ty, n_a, n_s, len(human_vocab), len(machine_vocab))"
   ]
  },
  {
   "cell_type": "markdown",
   "metadata": {
    "id": "nUJw7Xohh3Mp"
   },
   "source": [
    "#### Troubleshooting Note\n",
    "* If you are getting repeated errors after an initially incorrect implementation of \"model\", but believe that you have corrected the error, you may still see error messages when building your model.  \n",
    "* A solution is to save and restart your kernel (or shutdown then restart your notebook), and re-run the cells."
   ]
  },
  {
   "cell_type": "markdown",
   "metadata": {
    "id": "VgeU_I9_h3Mp"
   },
   "source": [
    "Let's get a summary of the model to check if it matches the expected output."
   ]
  },
  {
   "cell_type": "code",
   "execution_count": 16,
   "metadata": {
    "colab": {
     "base_uri": "https://localhost:8080/"
    },
    "executionInfo": {
     "elapsed": 20835,
     "status": "ok",
     "timestamp": 1612468518050,
     "user": {
      "displayName": "Mubsi K",
      "photoUrl": "https://lh3.googleusercontent.com/a-/AOh14Gip7OjOkdNkKxKDyWEQAq1o8ccGN_HrBTGdqjgQ=s64",
      "userId": "08094225471505108399"
     },
     "user_tz": -300
    },
    "id": "tX0vaYmPh3Mq",
    "outputId": "336b9248-70b0-4379-be95-95366874c02a"
   },
   "outputs": [
    {
     "name": "stdout",
     "output_type": "stream",
     "text": [
      "Model: \"model_1\"\n",
      "__________________________________________________________________________________________________\n",
      " Layer (type)                   Output Shape         Param #     Connected to                     \n",
      "==================================================================================================\n",
      " input_2 (InputLayer)           [(None, 30, 37)]     0           []                               \n",
      "                                                                                                  \n",
      " s0 (InputLayer)                [(None, 64)]         0           []                               \n",
      "                                                                                                  \n",
      " bidirectional_1 (Bidirectional  (None, 30, 64)      17920       ['input_2[0][0]']                \n",
      " )                                                                                                \n",
      "                                                                                                  \n",
      " repeat_vector (RepeatVector)   (None, 30, 64)       0           ['s0[0][0]',                     \n",
      "                                                                  'lstm[10][0]',                  \n",
      "                                                                  'lstm[11][0]',                  \n",
      "                                                                  'lstm[12][0]',                  \n",
      "                                                                  'lstm[13][0]',                  \n",
      "                                                                  'lstm[14][0]',                  \n",
      "                                                                  'lstm[15][0]',                  \n",
      "                                                                  'lstm[16][0]',                  \n",
      "                                                                  'lstm[17][0]',                  \n",
      "                                                                  'lstm[18][0]']                  \n",
      "                                                                                                  \n",
      " concatenate (Concatenate)      (None, 30, 128)      0           ['bidirectional_1[0][0]',        \n",
      "                                                                  'repeat_vector[10][0]',         \n",
      "                                                                  'bidirectional_1[0][0]',        \n",
      "                                                                  'repeat_vector[11][0]',         \n",
      "                                                                  'bidirectional_1[0][0]',        \n",
      "                                                                  'repeat_vector[12][0]',         \n",
      "                                                                  'bidirectional_1[0][0]',        \n",
      "                                                                  'repeat_vector[13][0]',         \n",
      "                                                                  'bidirectional_1[0][0]',        \n",
      "                                                                  'repeat_vector[14][0]',         \n",
      "                                                                  'bidirectional_1[0][0]',        \n",
      "                                                                  'repeat_vector[15][0]',         \n",
      "                                                                  'bidirectional_1[0][0]',        \n",
      "                                                                  'repeat_vector[16][0]',         \n",
      "                                                                  'bidirectional_1[0][0]',        \n",
      "                                                                  'repeat_vector[17][0]',         \n",
      "                                                                  'bidirectional_1[0][0]',        \n",
      "                                                                  'repeat_vector[18][0]',         \n",
      "                                                                  'bidirectional_1[0][0]',        \n",
      "                                                                  'repeat_vector[19][0]']         \n",
      "                                                                                                  \n",
      " dense (Dense)                  (None, 30, 10)       1290        ['concatenate[10][0]',           \n",
      "                                                                  'concatenate[11][0]',           \n",
      "                                                                  'concatenate[12][0]',           \n",
      "                                                                  'concatenate[13][0]',           \n",
      "                                                                  'concatenate[14][0]',           \n",
      "                                                                  'concatenate[15][0]',           \n",
      "                                                                  'concatenate[16][0]',           \n",
      "                                                                  'concatenate[17][0]',           \n",
      "                                                                  'concatenate[18][0]',           \n",
      "                                                                  'concatenate[19][0]']           \n",
      "                                                                                                  \n",
      " dense_1 (Dense)                (None, 30, 1)        11          ['dense[10][0]',                 \n",
      "                                                                  'dense[11][0]',                 \n",
      "                                                                  'dense[12][0]',                 \n",
      "                                                                  'dense[13][0]',                 \n",
      "                                                                  'dense[14][0]',                 \n",
      "                                                                  'dense[15][0]',                 \n",
      "                                                                  'dense[16][0]',                 \n",
      "                                                                  'dense[17][0]',                 \n",
      "                                                                  'dense[18][0]',                 \n",
      "                                                                  'dense[19][0]']                 \n",
      "                                                                                                  \n",
      " attention_weights (Activation)  (None, 30, 1)       0           ['dense_1[10][0]',               \n",
      "                                                                  'dense_1[11][0]',               \n",
      "                                                                  'dense_1[12][0]',               \n",
      "                                                                  'dense_1[13][0]',               \n",
      "                                                                  'dense_1[14][0]',               \n",
      "                                                                  'dense_1[15][0]',               \n",
      "                                                                  'dense_1[16][0]',               \n",
      "                                                                  'dense_1[17][0]',               \n",
      "                                                                  'dense_1[18][0]',               \n",
      "                                                                  'dense_1[19][0]']               \n",
      "                                                                                                  \n",
      " dot (Dot)                      (None, 1, 64)        0           ['attention_weights[10][0]',     \n",
      "                                                                  'bidirectional_1[0][0]',        \n",
      "                                                                  'attention_weights[11][0]',     \n",
      "                                                                  'bidirectional_1[0][0]',        \n",
      "                                                                  'attention_weights[12][0]',     \n",
      "                                                                  'bidirectional_1[0][0]',        \n",
      "                                                                  'attention_weights[13][0]',     \n",
      "                                                                  'bidirectional_1[0][0]',        \n"
     ]
    },
    {
     "name": "stdout",
     "output_type": "stream",
     "text": [
      "                                                                  'attention_weights[14][0]',     \n",
      "                                                                  'bidirectional_1[0][0]',        \n",
      "                                                                  'attention_weights[15][0]',     \n",
      "                                                                  'bidirectional_1[0][0]',        \n",
      "                                                                  'attention_weights[16][0]',     \n",
      "                                                                  'bidirectional_1[0][0]',        \n",
      "                                                                  'attention_weights[17][0]',     \n",
      "                                                                  'bidirectional_1[0][0]',        \n",
      "                                                                  'attention_weights[18][0]',     \n",
      "                                                                  'bidirectional_1[0][0]',        \n",
      "                                                                  'attention_weights[19][0]',     \n",
      "                                                                  'bidirectional_1[0][0]']        \n",
      "                                                                                                  \n",
      " c0 (InputLayer)                [(None, 64)]         0           []                               \n",
      "                                                                                                  \n",
      " lstm (LSTM)                    [(None, 64),         33024       ['dot[10][0]',                   \n",
      "                                 (None, 64),                      's0[0][0]',                     \n",
      "                                 (None, 64)]                      'c0[0][0]',                     \n",
      "                                                                  'dot[11][0]',                   \n",
      "                                                                  'lstm[10][0]',                  \n",
      "                                                                  'lstm[10][2]',                  \n",
      "                                                                  'dot[12][0]',                   \n",
      "                                                                  'lstm[11][0]',                  \n",
      "                                                                  'lstm[11][2]',                  \n",
      "                                                                  'dot[13][0]',                   \n",
      "                                                                  'lstm[12][0]',                  \n",
      "                                                                  'lstm[12][2]',                  \n",
      "                                                                  'dot[14][0]',                   \n",
      "                                                                  'lstm[13][0]',                  \n",
      "                                                                  'lstm[13][2]',                  \n",
      "                                                                  'dot[15][0]',                   \n",
      "                                                                  'lstm[14][0]',                  \n",
      "                                                                  'lstm[14][2]',                  \n",
      "                                                                  'dot[16][0]',                   \n",
      "                                                                  'lstm[15][0]',                  \n",
      "                                                                  'lstm[15][2]',                  \n",
      "                                                                  'dot[17][0]',                   \n",
      "                                                                  'lstm[16][0]',                  \n",
      "                                                                  'lstm[16][2]',                  \n",
      "                                                                  'dot[18][0]',                   \n",
      "                                                                  'lstm[17][0]',                  \n",
      "                                                                  'lstm[17][2]',                  \n",
      "                                                                  'dot[19][0]',                   \n",
      "                                                                  'lstm[18][0]',                  \n",
      "                                                                  'lstm[18][2]']                  \n",
      "                                                                                                  \n",
      " dense_2 (Dense)                (None, 11)           715         ['lstm[10][0]',                  \n",
      "                                                                  'lstm[11][0]',                  \n",
      "                                                                  'lstm[12][0]',                  \n",
      "                                                                  'lstm[13][0]',                  \n",
      "                                                                  'lstm[14][0]',                  \n",
      "                                                                  'lstm[15][0]',                  \n",
      "                                                                  'lstm[16][0]',                  \n",
      "                                                                  'lstm[17][0]',                  \n",
      "                                                                  'lstm[18][0]',                  \n",
      "                                                                  'lstm[19][0]']                  \n",
      "                                                                                                  \n",
      "==================================================================================================\n",
      "Total params: 52,960\n",
      "Trainable params: 52,960\n",
      "Non-trainable params: 0\n",
      "__________________________________________________________________________________________________\n"
     ]
    }
   ],
   "source": [
    "model.summary()"
   ]
  },
  {
   "cell_type": "markdown",
   "metadata": {
    "id": "uiqCePt5h3Mr"
   },
   "source": [
    "**Expected Output**:\n",
    "\n",
    "Here is the summary you should see\n",
    "<table>\n",
    "    <tr>\n",
    "        <td>\n",
    "            **Total params:**\n",
    "        </td>\n",
    "        <td>\n",
    "         52,960\n",
    "        </td>\n",
    "    </tr>\n",
    "        <tr>\n",
    "        <td>\n",
    "            **Trainable params:**\n",
    "        </td>\n",
    "        <td>\n",
    "         52,960\n",
    "        </td>\n",
    "    </tr>\n",
    "            <tr>\n",
    "        <td>\n",
    "            **Non-trainable params:**\n",
    "        </td>\n",
    "        <td>\n",
    "         0\n",
    "        </td>\n",
    "    </tr>\n",
    "                    <tr>\n",
    "        <td>\n",
    "            **bidirectional_1's output shape **\n",
    "        </td>\n",
    "        <td>\n",
    "         (None, 30, 64)  \n",
    "        </td>\n",
    "    </tr>\n",
    "    <tr>\n",
    "        <td>\n",
    "            **repeat_vector_1's output shape **\n",
    "        </td>\n",
    "        <td>\n",
    "         (None, 30, 64) \n",
    "        </td>\n",
    "    </tr>\n",
    "                <tr>\n",
    "        <td>\n",
    "            **concatenate_1's output shape **\n",
    "        </td>\n",
    "        <td>\n",
    "         (None, 30, 128) \n",
    "        </td>\n",
    "    </tr>\n",
    "            <tr>\n",
    "        <td>\n",
    "            **attention_weights's output shape **\n",
    "        </td>\n",
    "        <td>\n",
    "         (None, 30, 1)  \n",
    "        </td>\n",
    "    </tr>\n",
    "        <tr>\n",
    "        <td>\n",
    "            **dot_1's output shape **\n",
    "        </td>\n",
    "        <td>\n",
    "         (None, 1, 64)\n",
    "        </td>\n",
    "    </tr>\n",
    "           <tr>\n",
    "        <td>\n",
    "            **dense_3's output shape **\n",
    "        </td>\n",
    "        <td>\n",
    "         (None, 11) \n",
    "        </td>\n",
    "    </tr>\n",
    "</table>\n"
   ]
  },
  {
   "cell_type": "markdown",
   "metadata": {
    "id": "8u3D9Odhh3Ms"
   },
   "source": [
    "<a name='ex-3'></a>\n",
    "### Exercise 3 - Compile the Model\n",
    "\n",
    "* After creating your model in Keras, you need to compile it and define the loss function, optimizer and metrics you want to use. \n",
    "    * Loss function: 'categorical_crossentropy'.\n",
    "    * Optimizer: [Adam](https://keras.io/optimizers/#adam) [optimizer](https://keras.io/optimizers/#usage-of-optimizers)\n",
    "        - learning rate = 0.005 \n",
    "        - $\\beta_1 = 0.9$\n",
    "        - $\\beta_2 = 0.999$\n",
    "        - decay = 0.01  \n",
    "    * metric: 'accuracy'\n",
    "    \n",
    "Sample code\n",
    "```Python\n",
    "optimizer = Adam(lr=..., beta_1=..., beta_2=..., decay=...)\n",
    "model.compile(optimizer=..., loss=..., metrics=[...])\n",
    "```"
   ]
  },
  {
   "cell_type": "code",
   "execution_count": 17,
   "metadata": {
    "executionInfo": {
     "elapsed": 20835,
     "status": "ok",
     "timestamp": 1612468518051,
     "user": {
      "displayName": "Mubsi K",
      "photoUrl": "https://lh3.googleusercontent.com/a-/AOh14Gip7OjOkdNkKxKDyWEQAq1o8ccGN_HrBTGdqjgQ=s64",
      "userId": "08094225471505108399"
     },
     "user_tz": -300
    },
    "id": "sBFRJ49rh3Ms"
   },
   "outputs": [],
   "source": [
    "### START CODE HERE ### (≈2 lines)\n",
    "opt = Adam(learning_rate=0.005, beta_1=0.9, beta_2=0.999, decay=0.01) # Adam(...) \n",
    "model.compile(loss = 'categorical_crossentropy', optimizer = opt, metrics = ['accuracy'])\n",
    "### END CODE HERE ###"
   ]
  },
  {
   "cell_type": "code",
   "execution_count": 18,
   "metadata": {},
   "outputs": [
    {
     "name": "stdout",
     "output_type": "stream",
     "text": [
      "\u001b[92mAll tests passed!\n"
     ]
    }
   ],
   "source": [
    "# UNIT TESTS\n",
    "assert opt.lr == 0.005, \"Set the lr parameter to 0.005\"\n",
    "assert opt.beta_1 == 0.9, \"Set the beta_1 parameter to 0.9\"\n",
    "assert opt.beta_2 == 0.999, \"Set the beta_2 parameter to 0.999\"\n",
    "assert opt.decay == 0.01, \"Set the decay parameter to 0.01\"\n",
    "assert model.loss == \"categorical_crossentropy\", \"Wrong loss. Use 'categorical_crossentropy'\"\n",
    "assert model.optimizer == opt, \"Use the optimizer that you have instantiated\"\n",
    "assert model.compiled_metrics._user_metrics[0] == 'accuracy', \"set metrics to ['accuracy']\"\n",
    "\n",
    "print(\"\\033[92mAll tests passed!\")"
   ]
  },
  {
   "cell_type": "markdown",
   "metadata": {
    "id": "Qz71nM3oh3Ms"
   },
   "source": [
    "#### Define inputs and outputs, and fit the model\n",
    "The last step is to define all your inputs and outputs to fit the model:\n",
    "- You have input `Xoh` of shape $(m = 10000, T_x = 30, human\\_vocab=37)$ containing the training examples.\n",
    "- You need to create `s0` and `c0` to initialize your `post_attention_LSTM_cell` with zeros.\n",
    "- Given the `model()` you coded, you need the \"outputs\" to be a list of 10 elements of shape (m, T_y). \n",
    "    - The list `outputs[i][0], ..., outputs[i][Ty]` represents the true labels (characters) corresponding to the $i^{th}$ training example (`Xoh[i]`). \n",
    "    - `outputs[i][j]` is the true label of the $j^{th}$ character in the $i^{th}$ training example."
   ]
  },
  {
   "cell_type": "code",
   "execution_count": 19,
   "metadata": {
    "executionInfo": {
     "elapsed": 20833,
     "status": "ok",
     "timestamp": 1612468518051,
     "user": {
      "displayName": "Mubsi K",
      "photoUrl": "https://lh3.googleusercontent.com/a-/AOh14Gip7OjOkdNkKxKDyWEQAq1o8ccGN_HrBTGdqjgQ=s64",
      "userId": "08094225471505108399"
     },
     "user_tz": -300
    },
    "id": "USFiNKYhh3Mt"
   },
   "outputs": [],
   "source": [
    "s0 = np.zeros((m, n_s))\n",
    "c0 = np.zeros((m, n_s))\n",
    "outputs = list(Yoh.swapaxes(0,1))"
   ]
  },
  {
   "cell_type": "markdown",
   "metadata": {
    "id": "FVkITGi3h3Mt"
   },
   "source": [
    "Let's now fit the model and run it for one epoch."
   ]
  },
  {
   "cell_type": "code",
   "execution_count": 25,
   "metadata": {
    "colab": {
     "base_uri": "https://localhost:8080/"
    },
    "executionInfo": {
     "elapsed": 47944,
     "status": "ok",
     "timestamp": 1612468545172,
     "user": {
      "displayName": "Mubsi K",
      "photoUrl": "https://lh3.googleusercontent.com/a-/AOh14Gip7OjOkdNkKxKDyWEQAq1o8ccGN_HrBTGdqjgQ=s64",
      "userId": "08094225471505108399"
     },
     "user_tz": -300
    },
    "id": "tPuwY45bh3Mt",
    "outputId": "ec9dfc4c-1dcb-4577-d872-474f79c60d5f"
   },
   "outputs": [
    {
     "name": "stdout",
     "output_type": "stream",
     "text": [
      "Epoch 1/100\n",
      "100/100 [==============================] - 5s 54ms/step - loss: 0.7476 - dense_2_loss: 0.0117 - dense_2_1_loss: 0.0113 - dense_2_2_loss: 0.0872 - dense_2_3_loss: 0.0904 - dense_2_4_loss: 0.0015 - dense_2_5_loss: 0.0306 - dense_2_6_loss: 0.0725 - dense_2_7_loss: 0.0015 - dense_2_8_loss: 0.2693 - dense_2_9_loss: 0.1716 - dense_2_accuracy: 0.9967 - dense_2_1_accuracy: 0.9972 - dense_2_2_accuracy: 0.9805 - dense_2_3_accuracy: 0.9808 - dense_2_4_accuracy: 0.9994 - dense_2_5_accuracy: 0.9893 - dense_2_6_accuracy: 0.9842 - dense_2_7_accuracy: 0.9997 - dense_2_8_accuracy: 0.9431 - dense_2_9_accuracy: 0.9644\n",
      "Epoch 2/100\n",
      "100/100 [==============================] - 5s 53ms/step - loss: 0.0711 - dense_2_loss: 0.0025 - dense_2_1_loss: 0.0013 - dense_2_2_loss: 0.0056 - dense_2_3_loss: 0.0245 - dense_2_4_loss: 1.8701e-05 - dense_2_5_loss: 0.0073 - dense_2_6_loss: 0.0080 - dense_2_7_loss: 1.2345e-05 - dense_2_8_loss: 0.0160 - dense_2_9_loss: 0.0057 - dense_2_accuracy: 0.9999 - dense_2_1_accuracy: 1.0000 - dense_2_2_accuracy: 0.9995 - dense_2_3_accuracy: 0.9976 - dense_2_4_accuracy: 1.0000 - dense_2_5_accuracy: 0.9981 - dense_2_6_accuracy: 0.9998 - dense_2_7_accuracy: 1.0000 - dense_2_8_accuracy: 0.9976 - dense_2_9_accuracy: 0.9993\n",
      "Epoch 3/100\n",
      "100/100 [==============================] - 6s 60ms/step - loss: 0.0532 - dense_2_loss: 0.0017 - dense_2_1_loss: 9.9783e-04 - dense_2_2_loss: 0.0047 - dense_2_3_loss: 0.0229 - dense_2_4_loss: 1.6937e-05 - dense_2_5_loss: 0.0049 - dense_2_6_loss: 0.0055 - dense_2_7_loss: 1.2807e-05 - dense_2_8_loss: 0.0090 - dense_2_9_loss: 0.0034 - dense_2_accuracy: 1.0000 - dense_2_1_accuracy: 1.0000 - dense_2_2_accuracy: 0.9997 - dense_2_3_accuracy: 0.9976 - dense_2_4_accuracy: 1.0000 - dense_2_5_accuracy: 0.9989 - dense_2_6_accuracy: 1.0000 - dense_2_7_accuracy: 1.0000 - dense_2_8_accuracy: 0.9990 - dense_2_9_accuracy: 0.9997\n",
      "Epoch 4/100\n",
      "100/100 [==============================] - 6s 59ms/step - loss: 0.0438 - dense_2_loss: 0.0014 - dense_2_1_loss: 8.0628e-04 - dense_2_2_loss: 0.0042 - dense_2_3_loss: 0.0221 - dense_2_4_loss: 1.6586e-05 - dense_2_5_loss: 0.0034 - dense_2_6_loss: 0.0042 - dense_2_7_loss: 1.4212e-05 - dense_2_8_loss: 0.0054 - dense_2_9_loss: 0.0024 - dense_2_accuracy: 1.0000 - dense_2_1_accuracy: 1.0000 - dense_2_2_accuracy: 0.9997 - dense_2_3_accuracy: 0.9976 - dense_2_4_accuracy: 1.0000 - dense_2_5_accuracy: 0.9996 - dense_2_6_accuracy: 1.0000 - dense_2_7_accuracy: 1.0000 - dense_2_8_accuracy: 0.9997 - dense_2_9_accuracy: 0.9999\n",
      "Epoch 5/100\n",
      "100/100 [==============================] - 6s 61ms/step - loss: 0.0392 - dense_2_loss: 0.0012 - dense_2_1_loss: 6.7702e-04 - dense_2_2_loss: 0.0039 - dense_2_3_loss: 0.0215 - dense_2_4_loss: 1.6414e-05 - dense_2_5_loss: 0.0028 - dense_2_6_loss: 0.0036 - dense_2_7_loss: 1.5180e-05 - dense_2_8_loss: 0.0036 - dense_2_9_loss: 0.0019 - dense_2_accuracy: 1.0000 - dense_2_1_accuracy: 1.0000 - dense_2_2_accuracy: 0.9997 - dense_2_3_accuracy: 0.9976 - dense_2_4_accuracy: 1.0000 - dense_2_5_accuracy: 0.9997 - dense_2_6_accuracy: 0.9999 - dense_2_7_accuracy: 1.0000 - dense_2_8_accuracy: 0.9998 - dense_2_9_accuracy: 0.9999\n",
      "Epoch 6/100\n",
      "100/100 [==============================] - 7s 70ms/step - loss: 0.0360 - dense_2_loss: 0.0010 - dense_2_1_loss: 5.8618e-04 - dense_2_2_loss: 0.0038 - dense_2_3_loss: 0.0208 - dense_2_4_loss: 1.7114e-05 - dense_2_5_loss: 0.0023 - dense_2_6_loss: 0.0031 - dense_2_7_loss: 1.6035e-05 - dense_2_8_loss: 0.0028 - dense_2_9_loss: 0.0015 - dense_2_accuracy: 1.0000 - dense_2_1_accuracy: 1.0000 - dense_2_2_accuracy: 0.9997 - dense_2_3_accuracy: 0.9976 - dense_2_4_accuracy: 1.0000 - dense_2_5_accuracy: 0.9999 - dense_2_6_accuracy: 1.0000 - dense_2_7_accuracy: 1.0000 - dense_2_8_accuracy: 0.9999 - dense_2_9_accuracy: 0.9999\n",
      "Epoch 7/100\n",
      "100/100 [==============================] - 7s 65ms/step - loss: 0.0344 - dense_2_loss: 9.0211e-04 - dense_2_1_loss: 5.6632e-04 - dense_2_2_loss: 0.0036 - dense_2_3_loss: 0.0207 - dense_2_4_loss: 1.5119e-05 - dense_2_5_loss: 0.0022 - dense_2_6_loss: 0.0028 - dense_2_7_loss: 1.6778e-05 - dense_2_8_loss: 0.0023 - dense_2_9_loss: 0.0013 - dense_2_accuracy: 1.0000 - dense_2_1_accuracy: 1.0000 - dense_2_2_accuracy: 0.9997 - dense_2_3_accuracy: 0.9976 - dense_2_4_accuracy: 1.0000 - dense_2_5_accuracy: 0.9999 - dense_2_6_accuracy: 1.0000 - dense_2_7_accuracy: 1.0000 - dense_2_8_accuracy: 0.9999 - dense_2_9_accuracy: 1.0000\n",
      "Epoch 8/100\n",
      "100/100 [==============================] - 7s 66ms/step - loss: 0.0325 - dense_2_loss: 8.3232e-04 - dense_2_1_loss: 4.9365e-04 - dense_2_2_loss: 0.0035 - dense_2_3_loss: 0.0202 - dense_2_4_loss: 1.5793e-05 - dense_2_5_loss: 0.0019 - dense_2_6_loss: 0.0025 - dense_2_7_loss: 1.7842e-05 - dense_2_8_loss: 0.0019 - dense_2_9_loss: 0.0011 - dense_2_accuracy: 1.0000 - dense_2_1_accuracy: 1.0000 - dense_2_2_accuracy: 0.9997 - dense_2_3_accuracy: 0.9976 - dense_2_4_accuracy: 1.0000 - dense_2_5_accuracy: 0.9999 - dense_2_6_accuracy: 1.0000 - dense_2_7_accuracy: 1.0000 - dense_2_8_accuracy: 1.0000 - dense_2_9_accuracy: 1.0000\n",
      "Epoch 9/100\n",
      "100/100 [==============================] - 7s 69ms/step - loss: 0.0311 - dense_2_loss: 7.6082e-04 - dense_2_1_loss: 4.5003e-04 - dense_2_2_loss: 0.0034 - dense_2_3_loss: 0.0199 - dense_2_4_loss: 1.6055e-05 - dense_2_5_loss: 0.0017 - dense_2_6_loss: 0.0023 - dense_2_7_loss: 1.8088e-05 - dense_2_8_loss: 0.0016 - dense_2_9_loss: 0.0010 - dense_2_accuracy: 1.0000 - dense_2_1_accuracy: 1.0000 - dense_2_2_accuracy: 0.9997 - dense_2_3_accuracy: 0.9976 - dense_2_4_accuracy: 1.0000 - dense_2_5_accuracy: 0.9999 - dense_2_6_accuracy: 1.0000 - dense_2_7_accuracy: 1.0000 - dense_2_8_accuracy: 1.0000 - dense_2_9_accuracy: 1.0000\n",
      "Epoch 10/100\n",
      "100/100 [==============================] - 6s 63ms/step - loss: 0.0301 - dense_2_loss: 7.1707e-04 - dense_2_1_loss: 4.2154e-04 - dense_2_2_loss: 0.0033 - dense_2_3_loss: 0.0195 - dense_2_4_loss: 1.6449e-05 - dense_2_5_loss: 0.0016 - dense_2_6_loss: 0.0022 - dense_2_7_loss: 1.9505e-05 - dense_2_8_loss: 0.0014 - dense_2_9_loss: 9.6490e-04 - dense_2_accuracy: 1.0000 - dense_2_1_accuracy: 1.0000 - dense_2_2_accuracy: 0.9997 - dense_2_3_accuracy: 0.9976 - dense_2_4_accuracy: 1.0000 - dense_2_5_accuracy: 1.0000 - dense_2_6_accuracy: 1.0000 - dense_2_7_accuracy: 1.0000 - dense_2_8_accuracy: 1.0000 - dense_2_9_accuracy: 1.0000\n",
      "Epoch 11/100\n",
      "100/100 [==============================] - 8s 76ms/step - loss: 0.0292 - dense_2_loss: 6.7431e-04 - dense_2_1_loss: 4.0651e-04 - dense_2_2_loss: 0.0032 - dense_2_3_loss: 0.0192 - dense_2_4_loss: 1.6196e-05 - dense_2_5_loss: 0.0014 - dense_2_6_loss: 0.0021 - dense_2_7_loss: 1.9342e-05 - dense_2_8_loss: 0.0013 - dense_2_9_loss: 8.8601e-04 - dense_2_accuracy: 1.0000 - dense_2_1_accuracy: 1.0000 - dense_2_2_accuracy: 0.9997 - dense_2_3_accuracy: 0.9976 - dense_2_4_accuracy: 1.0000 - dense_2_5_accuracy: 1.0000 - dense_2_6_accuracy: 1.0000 - dense_2_7_accuracy: 1.0000 - dense_2_8_accuracy: 1.0000 - dense_2_9_accuracy: 1.0000\n",
      "Epoch 12/100\n",
      "100/100 [==============================] - 7s 75ms/step - loss: 0.0283 - dense_2_loss: 6.3318e-04 - dense_2_1_loss: 3.7658e-04 - dense_2_2_loss: 0.0032 - dense_2_3_loss: 0.0188 - dense_2_4_loss: 1.7253e-05 - dense_2_5_loss: 0.0013 - dense_2_6_loss: 0.0019 - dense_2_7_loss: 2.0151e-05 - dense_2_8_loss: 0.0012 - dense_2_9_loss: 8.3868e-04 - dense_2_accuracy: 1.0000 - dense_2_1_accuracy: 1.0000 - dense_2_2_accuracy: 0.9997 - dense_2_3_accuracy: 0.9976 - dense_2_4_accuracy: 1.0000 - dense_2_5_accuracy: 1.0000 - dense_2_6_accuracy: 1.0000 - dense_2_7_accuracy: 1.0000 - dense_2_8_accuracy: 1.0000 - dense_2_9_accuracy: 1.0000\n",
      "Epoch 13/100\n"
     ]
    },
    {
     "name": "stdout",
     "output_type": "stream",
     "text": [
      "100/100 [==============================] - 7s 70ms/step - loss: 0.0276 - dense_2_loss: 6.0443e-04 - dense_2_1_loss: 3.5539e-04 - dense_2_2_loss: 0.0031 - dense_2_3_loss: 0.0185 - dense_2_4_loss: 1.5800e-05 - dense_2_5_loss: 0.0013 - dense_2_6_loss: 0.0019 - dense_2_7_loss: 2.0772e-05 - dense_2_8_loss: 0.0010 - dense_2_9_loss: 7.9362e-04 - dense_2_accuracy: 1.0000 - dense_2_1_accuracy: 1.0000 - dense_2_2_accuracy: 0.9997 - dense_2_3_accuracy: 0.9976 - dense_2_4_accuracy: 1.0000 - dense_2_5_accuracy: 1.0000 - dense_2_6_accuracy: 1.0000 - dense_2_7_accuracy: 1.0000 - dense_2_8_accuracy: 1.0000 - dense_2_9_accuracy: 1.0000\n",
      "Epoch 14/100\n",
      "100/100 [==============================] - 7s 72ms/step - loss: 0.0270 - dense_2_loss: 5.7380e-04 - dense_2_1_loss: 3.4333e-04 - dense_2_2_loss: 0.0031 - dense_2_3_loss: 0.0183 - dense_2_4_loss: 1.6561e-05 - dense_2_5_loss: 0.0012 - dense_2_6_loss: 0.0018 - dense_2_7_loss: 2.1322e-05 - dense_2_8_loss: 9.7281e-04 - dense_2_9_loss: 7.6070e-04 - dense_2_accuracy: 1.0000 - dense_2_1_accuracy: 1.0000 - dense_2_2_accuracy: 0.9997 - dense_2_3_accuracy: 0.9976 - dense_2_4_accuracy: 1.0000 - dense_2_5_accuracy: 1.0000 - dense_2_6_accuracy: 1.0000 - dense_2_7_accuracy: 1.0000 - dense_2_8_accuracy: 1.0000 - dense_2_9_accuracy: 1.0000\n",
      "Epoch 15/100\n",
      "100/100 [==============================] - 9s 87ms/step - loss: 0.0264 - dense_2_loss: 5.5329e-04 - dense_2_1_loss: 3.2380e-04 - dense_2_2_loss: 0.0030 - dense_2_3_loss: 0.0180 - dense_2_4_loss: 1.6697e-05 - dense_2_5_loss: 0.0012 - dense_2_6_loss: 0.0017 - dense_2_7_loss: 2.1978e-05 - dense_2_8_loss: 9.0542e-04 - dense_2_9_loss: 7.2068e-04 - dense_2_accuracy: 1.0000 - dense_2_1_accuracy: 1.0000 - dense_2_2_accuracy: 0.9997 - dense_2_3_accuracy: 0.9976 - dense_2_4_accuracy: 1.0000 - dense_2_5_accuracy: 1.0000 - dense_2_6_accuracy: 1.0000 - dense_2_7_accuracy: 1.0000 - dense_2_8_accuracy: 1.0000 - dense_2_9_accuracy: 1.0000\n",
      "Epoch 16/100\n",
      "100/100 [==============================] - 7s 70ms/step - loss: 0.0259 - dense_2_loss: 5.2117e-04 - dense_2_1_loss: 3.1465e-04 - dense_2_2_loss: 0.0030 - dense_2_3_loss: 0.0178 - dense_2_4_loss: 1.6334e-05 - dense_2_5_loss: 0.0011 - dense_2_6_loss: 0.0017 - dense_2_7_loss: 2.2007e-05 - dense_2_8_loss: 8.4903e-04 - dense_2_9_loss: 6.8553e-04 - dense_2_accuracy: 1.0000 - dense_2_1_accuracy: 1.0000 - dense_2_2_accuracy: 0.9997 - dense_2_3_accuracy: 0.9976 - dense_2_4_accuracy: 1.0000 - dense_2_5_accuracy: 1.0000 - dense_2_6_accuracy: 1.0000 - dense_2_7_accuracy: 1.0000 - dense_2_8_accuracy: 1.0000 - dense_2_9_accuracy: 1.0000\n",
      "Epoch 17/100\n",
      "100/100 [==============================] - 7s 73ms/step - loss: 0.0254 - dense_2_loss: 5.1222e-04 - dense_2_1_loss: 3.0889e-04 - dense_2_2_loss: 0.0029 - dense_2_3_loss: 0.0175 - dense_2_4_loss: 1.7933e-05 - dense_2_5_loss: 0.0010 - dense_2_6_loss: 0.0016 - dense_2_7_loss: 2.2791e-05 - dense_2_8_loss: 8.0498e-04 - dense_2_9_loss: 6.6279e-04 - dense_2_accuracy: 1.0000 - dense_2_1_accuracy: 1.0000 - dense_2_2_accuracy: 0.9997 - dense_2_3_accuracy: 0.9976 - dense_2_4_accuracy: 1.0000 - dense_2_5_accuracy: 1.0000 - dense_2_6_accuracy: 1.0000 - dense_2_7_accuracy: 1.0000 - dense_2_8_accuracy: 1.0000 - dense_2_9_accuracy: 1.0000\n",
      "Epoch 18/100\n",
      "100/100 [==============================] - 7s 70ms/step - loss: 0.0249 - dense_2_loss: 4.8552e-04 - dense_2_1_loss: 2.8937e-04 - dense_2_2_loss: 0.0029 - dense_2_3_loss: 0.0173 - dense_2_4_loss: 1.7149e-05 - dense_2_5_loss: 9.5846e-04 - dense_2_6_loss: 0.0015 - dense_2_7_loss: 2.3357e-05 - dense_2_8_loss: 7.6169e-04 - dense_2_9_loss: 6.3847e-04 - dense_2_accuracy: 1.0000 - dense_2_1_accuracy: 1.0000 - dense_2_2_accuracy: 0.9997 - dense_2_3_accuracy: 0.9976 - dense_2_4_accuracy: 1.0000 - dense_2_5_accuracy: 1.0000 - dense_2_6_accuracy: 1.0000 - dense_2_7_accuracy: 1.0000 - dense_2_8_accuracy: 1.0000 - dense_2_9_accuracy: 1.0000\n",
      "Epoch 19/100\n",
      "100/100 [==============================] - 7s 70ms/step - loss: 0.0245 - dense_2_loss: 4.6792e-04 - dense_2_1_loss: 2.7771e-04 - dense_2_2_loss: 0.0028 - dense_2_3_loss: 0.0171 - dense_2_4_loss: 1.7403e-05 - dense_2_5_loss: 9.3875e-04 - dense_2_6_loss: 0.0015 - dense_2_7_loss: 2.3623e-05 - dense_2_8_loss: 7.0671e-04 - dense_2_9_loss: 6.1619e-04 - dense_2_accuracy: 1.0000 - dense_2_1_accuracy: 1.0000 - dense_2_2_accuracy: 0.9997 - dense_2_3_accuracy: 0.9976 - dense_2_4_accuracy: 1.0000 - dense_2_5_accuracy: 1.0000 - dense_2_6_accuracy: 1.0000 - dense_2_7_accuracy: 1.0000 - dense_2_8_accuracy: 1.0000 - dense_2_9_accuracy: 1.0000\n",
      "Epoch 20/100\n",
      "100/100 [==============================] - 7s 69ms/step - loss: 0.0241 - dense_2_loss: 4.6468e-04 - dense_2_1_loss: 2.7211e-04 - dense_2_2_loss: 0.0028 - dense_2_3_loss: 0.0169 - dense_2_4_loss: 1.8307e-05 - dense_2_5_loss: 9.0842e-04 - dense_2_6_loss: 0.0015 - dense_2_7_loss: 2.4076e-05 - dense_2_8_loss: 6.6907e-04 - dense_2_9_loss: 5.9931e-04 - dense_2_accuracy: 1.0000 - dense_2_1_accuracy: 1.0000 - dense_2_2_accuracy: 0.9997 - dense_2_3_accuracy: 0.9976 - dense_2_4_accuracy: 1.0000 - dense_2_5_accuracy: 1.0000 - dense_2_6_accuracy: 1.0000 - dense_2_7_accuracy: 1.0000 - dense_2_8_accuracy: 1.0000 - dense_2_9_accuracy: 1.0000\n",
      "Epoch 21/100\n",
      "100/100 [==============================] - 7s 73ms/step - loss: 0.0237 - dense_2_loss: 4.4247e-04 - dense_2_1_loss: 2.6370e-04 - dense_2_2_loss: 0.0028 - dense_2_3_loss: 0.0168 - dense_2_4_loss: 1.7277e-05 - dense_2_5_loss: 8.5689e-04 - dense_2_6_loss: 0.0014 - dense_2_7_loss: 2.4623e-05 - dense_2_8_loss: 6.4119e-04 - dense_2_9_loss: 5.7713e-04 - dense_2_accuracy: 1.0000 - dense_2_1_accuracy: 1.0000 - dense_2_2_accuracy: 0.9997 - dense_2_3_accuracy: 0.9976 - dense_2_4_accuracy: 1.0000 - dense_2_5_accuracy: 1.0000 - dense_2_6_accuracy: 1.0000 - dense_2_7_accuracy: 1.0000 - dense_2_8_accuracy: 1.0000 - dense_2_9_accuracy: 1.0000\n",
      "Epoch 22/100\n",
      "100/100 [==============================] - 8s 78ms/step - loss: 0.0234 - dense_2_loss: 4.2647e-04 - dense_2_1_loss: 2.5769e-04 - dense_2_2_loss: 0.0027 - dense_2_3_loss: 0.0166 - dense_2_4_loss: 1.9625e-05 - dense_2_5_loss: 8.5079e-04 - dense_2_6_loss: 0.0014 - dense_2_7_loss: 2.5125e-05 - dense_2_8_loss: 6.2967e-04 - dense_2_9_loss: 5.5707e-04 - dense_2_accuracy: 1.0000 - dense_2_1_accuracy: 1.0000 - dense_2_2_accuracy: 0.9997 - dense_2_3_accuracy: 0.9976 - dense_2_4_accuracy: 1.0000 - dense_2_5_accuracy: 1.0000 - dense_2_6_accuracy: 1.0000 - dense_2_7_accuracy: 1.0000 - dense_2_8_accuracy: 1.0000 - dense_2_9_accuracy: 1.0000\n",
      "Epoch 23/100\n",
      "100/100 [==============================] - 7s 71ms/step - loss: 0.0231 - dense_2_loss: 4.1327e-04 - dense_2_1_loss: 2.4647e-04 - dense_2_2_loss: 0.0027 - dense_2_3_loss: 0.0165 - dense_2_4_loss: 1.8152e-05 - dense_2_5_loss: 8.1401e-04 - dense_2_6_loss: 0.0013 - dense_2_7_loss: 2.5248e-05 - dense_2_8_loss: 5.7746e-04 - dense_2_9_loss: 5.4499e-04 - dense_2_accuracy: 1.0000 - dense_2_1_accuracy: 1.0000 - dense_2_2_accuracy: 0.9997 - dense_2_3_accuracy: 0.9976 - dense_2_4_accuracy: 1.0000 - dense_2_5_accuracy: 1.0000 - dense_2_6_accuracy: 1.0000 - dense_2_7_accuracy: 1.0000 - dense_2_8_accuracy: 1.0000 - dense_2_9_accuracy: 1.0000\n",
      "Epoch 24/100\n",
      "100/100 [==============================] - 7s 70ms/step - loss: 0.0227 - dense_2_loss: 4.0571e-04 - dense_2_1_loss: 2.4261e-04 - dense_2_2_loss: 0.0027 - dense_2_3_loss: 0.0162 - dense_2_4_loss: 1.8503e-05 - dense_2_5_loss: 7.6899e-04 - dense_2_6_loss: 0.0013 - dense_2_7_loss: 2.5751e-05 - dense_2_8_loss: 5.5178e-04 - dense_2_9_loss: 5.3256e-04 - dense_2_accuracy: 1.0000 - dense_2_1_accuracy: 1.0000 - dense_2_2_accuracy: 0.9997 - dense_2_3_accuracy: 0.9976 - dense_2_4_accuracy: 1.0000 - dense_2_5_accuracy: 1.0000 - dense_2_6_accuracy: 1.0000 - dense_2_7_accuracy: 1.0000 - dense_2_8_accuracy: 1.0000 - dense_2_9_accuracy: 1.0000\n",
      "Epoch 25/100\n"
     ]
    },
    {
     "name": "stdout",
     "output_type": "stream",
     "text": [
      "100/100 [==============================] - 7s 73ms/step - loss: 0.0224 - dense_2_loss: 3.9326e-04 - dense_2_1_loss: 2.3205e-04 - dense_2_2_loss: 0.0027 - dense_2_3_loss: 0.0160 - dense_2_4_loss: 1.7904e-05 - dense_2_5_loss: 7.3707e-04 - dense_2_6_loss: 0.0013 - dense_2_7_loss: 2.6068e-05 - dense_2_8_loss: 5.4188e-04 - dense_2_9_loss: 5.1214e-04 - dense_2_accuracy: 1.0000 - dense_2_1_accuracy: 1.0000 - dense_2_2_accuracy: 0.9997 - dense_2_3_accuracy: 0.9976 - dense_2_4_accuracy: 1.0000 - dense_2_5_accuracy: 1.0000 - dense_2_6_accuracy: 1.0000 - dense_2_7_accuracy: 1.0000 - dense_2_8_accuracy: 1.0000 - dense_2_9_accuracy: 1.0000\n",
      "Epoch 26/100\n",
      "100/100 [==============================] - 7s 75ms/step - loss: 0.0221 - dense_2_loss: 3.8655e-04 - dense_2_1_loss: 2.3345e-04 - dense_2_2_loss: 0.0026 - dense_2_3_loss: 0.0159 - dense_2_4_loss: 1.9229e-05 - dense_2_5_loss: 7.5787e-04 - dense_2_6_loss: 0.0012 - dense_2_7_loss: 2.7020e-05 - dense_2_8_loss: 5.1755e-04 - dense_2_9_loss: 5.0206e-04 - dense_2_accuracy: 1.0000 - dense_2_1_accuracy: 1.0000 - dense_2_2_accuracy: 0.9997 - dense_2_3_accuracy: 0.9976 - dense_2_4_accuracy: 1.0000 - dense_2_5_accuracy: 1.0000 - dense_2_6_accuracy: 1.0000 - dense_2_7_accuracy: 1.0000 - dense_2_8_accuracy: 1.0000 - dense_2_9_accuracy: 1.0000\n",
      "Epoch 27/100\n",
      "100/100 [==============================] - 7s 73ms/step - loss: 0.0219 - dense_2_loss: 3.7727e-04 - dense_2_1_loss: 2.2099e-04 - dense_2_2_loss: 0.0026 - dense_2_3_loss: 0.0157 - dense_2_4_loss: 1.8245e-05 - dense_2_5_loss: 6.9530e-04 - dense_2_6_loss: 0.0012 - dense_2_7_loss: 2.6750e-05 - dense_2_8_loss: 5.0571e-04 - dense_2_9_loss: 4.8588e-04 - dense_2_accuracy: 1.0000 - dense_2_1_accuracy: 1.0000 - dense_2_2_accuracy: 0.9997 - dense_2_3_accuracy: 0.9976 - dense_2_4_accuracy: 1.0000 - dense_2_5_accuracy: 1.0000 - dense_2_6_accuracy: 1.0000 - dense_2_7_accuracy: 1.0000 - dense_2_8_accuracy: 1.0000 - dense_2_9_accuracy: 1.0000\n",
      "Epoch 28/100\n",
      "100/100 [==============================] - 7s 70ms/step - loss: 0.0216 - dense_2_loss: 3.6270e-04 - dense_2_1_loss: 2.2340e-04 - dense_2_2_loss: 0.0025 - dense_2_3_loss: 0.0156 - dense_2_4_loss: 1.9478e-05 - dense_2_5_loss: 7.4259e-04 - dense_2_6_loss: 0.0012 - dense_2_7_loss: 2.7727e-05 - dense_2_8_loss: 4.7197e-04 - dense_2_9_loss: 4.7634e-04 - dense_2_accuracy: 1.0000 - dense_2_1_accuracy: 1.0000 - dense_2_2_accuracy: 0.9997 - dense_2_3_accuracy: 0.9976 - dense_2_4_accuracy: 1.0000 - dense_2_5_accuracy: 1.0000 - dense_2_6_accuracy: 1.0000 - dense_2_7_accuracy: 1.0000 - dense_2_8_accuracy: 1.0000 - dense_2_9_accuracy: 1.0000\n",
      "Epoch 29/100\n",
      "100/100 [==============================] - 8s 77ms/step - loss: 0.0213 - dense_2_loss: 3.5929e-04 - dense_2_1_loss: 2.0959e-04 - dense_2_2_loss: 0.0026 - dense_2_3_loss: 0.0155 - dense_2_4_loss: 1.8433e-05 - dense_2_5_loss: 6.5566e-04 - dense_2_6_loss: 0.0011 - dense_2_7_loss: 2.8534e-05 - dense_2_8_loss: 4.5617e-04 - dense_2_9_loss: 4.5790e-04 - dense_2_accuracy: 1.0000 - dense_2_1_accuracy: 1.0000 - dense_2_2_accuracy: 0.9997 - dense_2_3_accuracy: 0.9976 - dense_2_4_accuracy: 1.0000 - dense_2_5_accuracy: 1.0000 - dense_2_6_accuracy: 1.0000 - dense_2_7_accuracy: 1.0000 - dense_2_8_accuracy: 1.0000 - dense_2_9_accuracy: 1.0000\n",
      "Epoch 30/100\n",
      "100/100 [==============================] - 7s 72ms/step - loss: 0.0211 - dense_2_loss: 3.4994e-04 - dense_2_1_loss: 2.0944e-04 - dense_2_2_loss: 0.0025 - dense_2_3_loss: 0.0153 - dense_2_4_loss: 1.9979e-05 - dense_2_5_loss: 6.6236e-04 - dense_2_6_loss: 0.0011 - dense_2_7_loss: 2.7995e-05 - dense_2_8_loss: 4.4735e-04 - dense_2_9_loss: 4.4995e-04 - dense_2_accuracy: 1.0000 - dense_2_1_accuracy: 1.0000 - dense_2_2_accuracy: 0.9997 - dense_2_3_accuracy: 0.9976 - dense_2_4_accuracy: 1.0000 - dense_2_5_accuracy: 1.0000 - dense_2_6_accuracy: 1.0000 - dense_2_7_accuracy: 1.0000 - dense_2_8_accuracy: 1.0000 - dense_2_9_accuracy: 1.0000\n",
      "Epoch 31/100\n",
      "100/100 [==============================] - 7s 70ms/step - loss: 0.0209 - dense_2_loss: 3.4365e-04 - dense_2_1_loss: 2.0053e-04 - dense_2_2_loss: 0.0025 - dense_2_3_loss: 0.0152 - dense_2_4_loss: 1.8902e-05 - dense_2_5_loss: 5.9091e-04 - dense_2_6_loss: 0.0011 - dense_2_7_loss: 2.8931e-05 - dense_2_8_loss: 4.3109e-04 - dense_2_9_loss: 4.3961e-04 - dense_2_accuracy: 1.0000 - dense_2_1_accuracy: 1.0000 - dense_2_2_accuracy: 0.9997 - dense_2_3_accuracy: 0.9976 - dense_2_4_accuracy: 1.0000 - dense_2_5_accuracy: 1.0000 - dense_2_6_accuracy: 1.0000 - dense_2_7_accuracy: 1.0000 - dense_2_8_accuracy: 1.0000 - dense_2_9_accuracy: 1.0000\n",
      "Epoch 32/100\n",
      "100/100 [==============================] - 7s 70ms/step - loss: 0.0207 - dense_2_loss: 3.3088e-04 - dense_2_1_loss: 2.0937e-04 - dense_2_2_loss: 0.0024 - dense_2_3_loss: 0.0151 - dense_2_4_loss: 1.9550e-05 - dense_2_5_loss: 6.2368e-04 - dense_2_6_loss: 0.0011 - dense_2_7_loss: 2.9362e-05 - dense_2_8_loss: 4.1937e-04 - dense_2_9_loss: 4.3073e-04 - dense_2_accuracy: 1.0000 - dense_2_1_accuracy: 1.0000 - dense_2_2_accuracy: 0.9997 - dense_2_3_accuracy: 0.9976 - dense_2_4_accuracy: 1.0000 - dense_2_5_accuracy: 1.0000 - dense_2_6_accuracy: 1.0000 - dense_2_7_accuracy: 1.0000 - dense_2_8_accuracy: 1.0000 - dense_2_9_accuracy: 1.0000\n",
      "Epoch 33/100\n",
      "100/100 [==============================] - 8s 82ms/step - loss: 0.0204 - dense_2_loss: 3.3079e-04 - dense_2_1_loss: 1.9535e-04 - dense_2_2_loss: 0.0024 - dense_2_3_loss: 0.0150 - dense_2_4_loss: 1.9451e-05 - dense_2_5_loss: 5.7556e-04 - dense_2_6_loss: 0.0010 - dense_2_7_loss: 2.9209e-05 - dense_2_8_loss: 4.1029e-04 - dense_2_9_loss: 4.1975e-04 - dense_2_accuracy: 1.0000 - dense_2_1_accuracy: 1.0000 - dense_2_2_accuracy: 0.9997 - dense_2_3_accuracy: 0.9976 - dense_2_4_accuracy: 1.0000 - dense_2_5_accuracy: 1.0000 - dense_2_6_accuracy: 1.0000 - dense_2_7_accuracy: 1.0000 - dense_2_8_accuracy: 1.0000 - dense_2_9_accuracy: 1.0000\n",
      "Epoch 34/100\n",
      "100/100 [==============================] - 7s 71ms/step - loss: 0.0201 - dense_2_loss: 3.2073e-04 - dense_2_1_loss: 1.9238e-04 - dense_2_2_loss: 0.0024 - dense_2_3_loss: 0.0148 - dense_2_4_loss: 1.8789e-05 - dense_2_5_loss: 5.7778e-04 - dense_2_6_loss: 0.0010 - dense_2_7_loss: 2.9717e-05 - dense_2_8_loss: 3.8216e-04 - dense_2_9_loss: 4.0806e-04 - dense_2_accuracy: 1.0000 - dense_2_1_accuracy: 1.0000 - dense_2_2_accuracy: 0.9997 - dense_2_3_accuracy: 0.9976 - dense_2_4_accuracy: 1.0000 - dense_2_5_accuracy: 1.0000 - dense_2_6_accuracy: 1.0000 - dense_2_7_accuracy: 1.0000 - dense_2_8_accuracy: 1.0000 - dense_2_9_accuracy: 1.0000\n",
      "Epoch 35/100\n",
      "100/100 [==============================] - 7s 71ms/step - loss: 0.0199 - dense_2_loss: 3.2133e-04 - dense_2_1_loss: 1.9019e-04 - dense_2_2_loss: 0.0024 - dense_2_3_loss: 0.0146 - dense_2_4_loss: 1.9206e-05 - dense_2_5_loss: 5.7049e-04 - dense_2_6_loss: 9.8251e-04 - dense_2_7_loss: 2.9823e-05 - dense_2_8_loss: 3.9395e-04 - dense_2_9_loss: 3.9845e-04 - dense_2_accuracy: 1.0000 - dense_2_1_accuracy: 1.0000 - dense_2_2_accuracy: 0.9997 - dense_2_3_accuracy: 0.9976 - dense_2_4_accuracy: 1.0000 - dense_2_5_accuracy: 1.0000 - dense_2_6_accuracy: 1.0000 - dense_2_7_accuracy: 1.0000 - dense_2_8_accuracy: 1.0000 - dense_2_9_accuracy: 1.0000\n",
      "Epoch 36/100\n",
      "100/100 [==============================] - 8s 83ms/step - loss: 0.0198 - dense_2_loss: 3.0694e-04 - dense_2_1_loss: 1.8734e-04 - dense_2_2_loss: 0.0024 - dense_2_3_loss: 0.0146 - dense_2_4_loss: 2.0143e-05 - dense_2_5_loss: 5.9754e-04 - dense_2_6_loss: 9.6754e-04 - dense_2_7_loss: 3.0466e-05 - dense_2_8_loss: 3.7435e-04 - dense_2_9_loss: 3.9869e-04 - dense_2_accuracy: 1.0000 - dense_2_1_accuracy: 1.0000 - dense_2_2_accuracy: 0.9997 - dense_2_3_accuracy: 0.9976 - dense_2_4_accuracy: 1.0000 - dense_2_5_accuracy: 1.0000 - dense_2_6_accuracy: 1.0000 - dense_2_7_accuracy: 1.0000 - dense_2_8_accuracy: 1.0000 - dense_2_9_accuracy: 1.0000\n",
      "Epoch 37/100\n"
     ]
    },
    {
     "name": "stdout",
     "output_type": "stream",
     "text": [
      "100/100 [==============================] - 7s 72ms/step - loss: 0.0196 - dense_2_loss: 3.1001e-04 - dense_2_1_loss: 1.8310e-04 - dense_2_2_loss: 0.0024 - dense_2_3_loss: 0.0144 - dense_2_4_loss: 2.0366e-05 - dense_2_5_loss: 5.5978e-04 - dense_2_6_loss: 9.5472e-04 - dense_2_7_loss: 3.0930e-05 - dense_2_8_loss: 3.7604e-04 - dense_2_9_loss: 3.8440e-04 - dense_2_accuracy: 1.0000 - dense_2_1_accuracy: 1.0000 - dense_2_2_accuracy: 0.9997 - dense_2_3_accuracy: 0.9976 - dense_2_4_accuracy: 1.0000 - dense_2_5_accuracy: 1.0000 - dense_2_6_accuracy: 1.0000 - dense_2_7_accuracy: 1.0000 - dense_2_8_accuracy: 1.0000 - dense_2_9_accuracy: 1.0000\n",
      "Epoch 38/100\n",
      "100/100 [==============================] - 8s 83ms/step - loss: 0.0194 - dense_2_loss: 3.0165e-04 - dense_2_1_loss: 1.8389e-04 - dense_2_2_loss: 0.0023 - dense_2_3_loss: 0.0143 - dense_2_4_loss: 1.9959e-05 - dense_2_5_loss: 5.2332e-04 - dense_2_6_loss: 9.1285e-04 - dense_2_7_loss: 3.0999e-05 - dense_2_8_loss: 3.3964e-04 - dense_2_9_loss: 3.7681e-04 - dense_2_accuracy: 1.0000 - dense_2_1_accuracy: 1.0000 - dense_2_2_accuracy: 0.9997 - dense_2_3_accuracy: 0.9976 - dense_2_4_accuracy: 1.0000 - dense_2_5_accuracy: 1.0000 - dense_2_6_accuracy: 1.0000 - dense_2_7_accuracy: 1.0000 - dense_2_8_accuracy: 1.0000 - dense_2_9_accuracy: 1.0000\n",
      "Epoch 39/100\n",
      "100/100 [==============================] - 7s 72ms/step - loss: 0.0191 - dense_2_loss: 2.9352e-04 - dense_2_1_loss: 1.7544e-04 - dense_2_2_loss: 0.0023 - dense_2_3_loss: 0.0142 - dense_2_4_loss: 1.7942e-05 - dense_2_5_loss: 5.2710e-04 - dense_2_6_loss: 9.1970e-04 - dense_2_7_loss: 3.0697e-05 - dense_2_8_loss: 3.4324e-04 - dense_2_9_loss: 3.6625e-04 - dense_2_accuracy: 1.0000 - dense_2_1_accuracy: 1.0000 - dense_2_2_accuracy: 0.9997 - dense_2_3_accuracy: 0.9976 - dense_2_4_accuracy: 1.0000 - dense_2_5_accuracy: 1.0000 - dense_2_6_accuracy: 1.0000 - dense_2_7_accuracy: 1.0000 - dense_2_8_accuracy: 1.0000 - dense_2_9_accuracy: 1.0000\n",
      "Epoch 40/100\n",
      "100/100 [==============================] - 7s 71ms/step - loss: 0.0188 - dense_2_loss: 2.8890e-04 - dense_2_1_loss: 1.7741e-04 - dense_2_2_loss: 0.0022 - dense_2_3_loss: 0.0140 - dense_2_4_loss: 2.0645e-05 - dense_2_5_loss: 5.2066e-04 - dense_2_6_loss: 8.9549e-04 - dense_2_7_loss: 3.1306e-05 - dense_2_8_loss: 3.3733e-04 - dense_2_9_loss: 3.6181e-04 - dense_2_accuracy: 1.0000 - dense_2_1_accuracy: 1.0000 - dense_2_2_accuracy: 0.9997 - dense_2_3_accuracy: 0.9976 - dense_2_4_accuracy: 1.0000 - dense_2_5_accuracy: 1.0000 - dense_2_6_accuracy: 1.0000 - dense_2_7_accuracy: 1.0000 - dense_2_8_accuracy: 1.0000 - dense_2_9_accuracy: 1.0000\n",
      "Epoch 41/100\n",
      "100/100 [==============================] - 8s 81ms/step - loss: 0.0186 - dense_2_loss: 2.8710e-04 - dense_2_1_loss: 1.7148e-04 - dense_2_2_loss: 0.0022 - dense_2_3_loss: 0.0139 - dense_2_4_loss: 1.9368e-05 - dense_2_5_loss: 4.8463e-04 - dense_2_6_loss: 8.5882e-04 - dense_2_7_loss: 3.1423e-05 - dense_2_8_loss: 3.2506e-04 - dense_2_9_loss: 3.5146e-04 - dense_2_accuracy: 1.0000 - dense_2_1_accuracy: 1.0000 - dense_2_2_accuracy: 0.9997 - dense_2_3_accuracy: 0.9976 - dense_2_4_accuracy: 1.0000 - dense_2_5_accuracy: 1.0000 - dense_2_6_accuracy: 1.0000 - dense_2_7_accuracy: 1.0000 - dense_2_8_accuracy: 1.0000 - dense_2_9_accuracy: 1.0000\n",
      "Epoch 42/100\n",
      "100/100 [==============================] - 7s 74ms/step - loss: 0.0184 - dense_2_loss: 2.8487e-04 - dense_2_1_loss: 1.6686e-04 - dense_2_2_loss: 0.0021 - dense_2_3_loss: 0.0138 - dense_2_4_loss: 2.0429e-05 - dense_2_5_loss: 4.4794e-04 - dense_2_6_loss: 8.5951e-04 - dense_2_7_loss: 3.2579e-05 - dense_2_8_loss: 3.1470e-04 - dense_2_9_loss: 3.4457e-04 - dense_2_accuracy: 1.0000 - dense_2_1_accuracy: 1.0000 - dense_2_2_accuracy: 0.9997 - dense_2_3_accuracy: 0.9976 - dense_2_4_accuracy: 1.0000 - dense_2_5_accuracy: 1.0000 - dense_2_6_accuracy: 1.0000 - dense_2_7_accuracy: 1.0000 - dense_2_8_accuracy: 1.0000 - dense_2_9_accuracy: 1.0000\n",
      "Epoch 43/100\n",
      "100/100 [==============================] - 8s 82ms/step - loss: 0.0183 - dense_2_loss: 2.8250e-04 - dense_2_1_loss: 1.7386e-04 - dense_2_2_loss: 0.0022 - dense_2_3_loss: 0.0137 - dense_2_4_loss: 1.9728e-05 - dense_2_5_loss: 4.6614e-04 - dense_2_6_loss: 8.3083e-04 - dense_2_7_loss: 3.2621e-05 - dense_2_8_loss: 3.1764e-04 - dense_2_9_loss: 3.3762e-04 - dense_2_accuracy: 1.0000 - dense_2_1_accuracy: 1.0000 - dense_2_2_accuracy: 0.9997 - dense_2_3_accuracy: 0.9976 - dense_2_4_accuracy: 1.0000 - dense_2_5_accuracy: 1.0000 - dense_2_6_accuracy: 1.0000 - dense_2_7_accuracy: 1.0000 - dense_2_8_accuracy: 1.0000 - dense_2_9_accuracy: 1.0000\n",
      "Epoch 44/100\n",
      "100/100 [==============================] - 7s 71ms/step - loss: 0.0180 - dense_2_loss: 2.7489e-04 - dense_2_1_loss: 1.6553e-04 - dense_2_2_loss: 0.0021 - dense_2_3_loss: 0.0135 - dense_2_4_loss: 2.0740e-05 - dense_2_5_loss: 4.7808e-04 - dense_2_6_loss: 8.0914e-04 - dense_2_7_loss: 3.2799e-05 - dense_2_8_loss: 2.9731e-04 - dense_2_9_loss: 3.3229e-04 - dense_2_accuracy: 1.0000 - dense_2_1_accuracy: 1.0000 - dense_2_2_accuracy: 0.9997 - dense_2_3_accuracy: 0.9976 - dense_2_4_accuracy: 1.0000 - dense_2_5_accuracy: 1.0000 - dense_2_6_accuracy: 1.0000 - dense_2_7_accuracy: 1.0000 - dense_2_8_accuracy: 1.0000 - dense_2_9_accuracy: 1.0000\n",
      "Epoch 45/100\n",
      "100/100 [==============================] - 8s 80ms/step - loss: 0.0179 - dense_2_loss: 2.6584e-04 - dense_2_1_loss: 1.5937e-04 - dense_2_2_loss: 0.0021 - dense_2_3_loss: 0.0134 - dense_2_4_loss: 1.9532e-05 - dense_2_5_loss: 4.6959e-04 - dense_2_6_loss: 7.9249e-04 - dense_2_7_loss: 3.2244e-05 - dense_2_8_loss: 3.1091e-04 - dense_2_9_loss: 3.2862e-04 - dense_2_accuracy: 1.0000 - dense_2_1_accuracy: 1.0000 - dense_2_2_accuracy: 0.9997 - dense_2_3_accuracy: 0.9976 - dense_2_4_accuracy: 1.0000 - dense_2_5_accuracy: 1.0000 - dense_2_6_accuracy: 1.0000 - dense_2_7_accuracy: 1.0000 - dense_2_8_accuracy: 1.0000 - dense_2_9_accuracy: 1.0000\n",
      "Epoch 46/100\n",
      "100/100 [==============================] - 7s 73ms/step - loss: 0.0177 - dense_2_loss: 2.6940e-04 - dense_2_1_loss: 1.5807e-04 - dense_2_2_loss: 0.0020 - dense_2_3_loss: 0.0134 - dense_2_4_loss: 1.9137e-05 - dense_2_5_loss: 4.5129e-04 - dense_2_6_loss: 7.8271e-04 - dense_2_7_loss: 3.2761e-05 - dense_2_8_loss: 2.9380e-04 - dense_2_9_loss: 3.1901e-04 - dense_2_accuracy: 1.0000 - dense_2_1_accuracy: 1.0000 - dense_2_2_accuracy: 0.9997 - dense_2_3_accuracy: 0.9976 - dense_2_4_accuracy: 1.0000 - dense_2_5_accuracy: 1.0000 - dense_2_6_accuracy: 1.0000 - dense_2_7_accuracy: 1.0000 - dense_2_8_accuracy: 1.0000 - dense_2_9_accuracy: 1.0000\n",
      "Epoch 47/100\n",
      "100/100 [==============================] - 10s 99ms/step - loss: 0.0175 - dense_2_loss: 2.6626e-04 - dense_2_1_loss: 1.6130e-04 - dense_2_2_loss: 0.0020 - dense_2_3_loss: 0.0132 - dense_2_4_loss: 2.2258e-05 - dense_2_5_loss: 4.4042e-04 - dense_2_6_loss: 7.6668e-04 - dense_2_7_loss: 3.3580e-05 - dense_2_8_loss: 2.7689e-04 - dense_2_9_loss: 3.1537e-04 - dense_2_accuracy: 1.0000 - dense_2_1_accuracy: 1.0000 - dense_2_2_accuracy: 0.9997 - dense_2_3_accuracy: 0.9976 - dense_2_4_accuracy: 1.0000 - dense_2_5_accuracy: 1.0000 - dense_2_6_accuracy: 1.0000 - dense_2_7_accuracy: 1.0000 - dense_2_8_accuracy: 1.0000 - dense_2_9_accuracy: 1.0000\n",
      "Epoch 48/100\n",
      "100/100 [==============================] - 10s 96ms/step - loss: 0.0172 - dense_2_loss: 2.6702e-04 - dense_2_1_loss: 1.5772e-04 - dense_2_2_loss: 0.0020 - dense_2_3_loss: 0.0129 - dense_2_4_loss: 1.9084e-05 - dense_2_5_loss: 4.1728e-04 - dense_2_6_loss: 7.5020e-04 - dense_2_7_loss: 3.2619e-05 - dense_2_8_loss: 2.7184e-04 - dense_2_9_loss: 3.0871e-04 - dense_2_accuracy: 1.0000 - dense_2_1_accuracy: 1.0000 - dense_2_2_accuracy: 0.9997 - dense_2_3_accuracy: 0.9976 - dense_2_4_accuracy: 1.0000 - dense_2_5_accuracy: 1.0000 - dense_2_6_accuracy: 1.0000 - dense_2_7_accuracy: 1.0000 - dense_2_8_accuracy: 1.0000 - dense_2_9_accuracy: 1.0000\n",
      "Epoch 49/100\n"
     ]
    },
    {
     "name": "stdout",
     "output_type": "stream",
     "text": [
      "100/100 [==============================] - 10s 99ms/step - loss: 0.0171 - dense_2_loss: 2.5345e-04 - dense_2_1_loss: 1.5271e-04 - dense_2_2_loss: 0.0020 - dense_2_3_loss: 0.0129 - dense_2_4_loss: 2.0626e-05 - dense_2_5_loss: 4.3202e-04 - dense_2_6_loss: 7.5399e-04 - dense_2_7_loss: 3.3537e-05 - dense_2_8_loss: 2.6044e-04 - dense_2_9_loss: 3.0508e-04 - dense_2_accuracy: 1.0000 - dense_2_1_accuracy: 1.0000 - dense_2_2_accuracy: 0.9997 - dense_2_3_accuracy: 0.9976 - dense_2_4_accuracy: 1.0000 - dense_2_5_accuracy: 1.0000 - dense_2_6_accuracy: 1.0000 - dense_2_7_accuracy: 1.0000 - dense_2_8_accuracy: 1.0000 - dense_2_9_accuracy: 1.0000\n",
      "Epoch 50/100\n",
      "100/100 [==============================] - 9s 95ms/step - loss: 0.0170 - dense_2_loss: 2.5442e-04 - dense_2_1_loss: 1.5103e-04 - dense_2_2_loss: 0.0020 - dense_2_3_loss: 0.0129 - dense_2_4_loss: 2.0120e-05 - dense_2_5_loss: 4.1013e-04 - dense_2_6_loss: 7.3115e-04 - dense_2_7_loss: 3.3554e-05 - dense_2_8_loss: 2.6103e-04 - dense_2_9_loss: 2.9960e-04 - dense_2_accuracy: 1.0000 - dense_2_1_accuracy: 1.0000 - dense_2_2_accuracy: 0.9997 - dense_2_3_accuracy: 0.9976 - dense_2_4_accuracy: 1.0000 - dense_2_5_accuracy: 1.0000 - dense_2_6_accuracy: 1.0000 - dense_2_7_accuracy: 1.0000 - dense_2_8_accuracy: 1.0000 - dense_2_9_accuracy: 1.0000\n",
      "Epoch 51/100\n",
      "100/100 [==============================] - 8s 80ms/step - loss: 0.0168 - dense_2_loss: 2.5318e-04 - dense_2_1_loss: 1.5223e-04 - dense_2_2_loss: 0.0019 - dense_2_3_loss: 0.0127 - dense_2_4_loss: 1.9727e-05 - dense_2_5_loss: 4.0854e-04 - dense_2_6_loss: 7.0824e-04 - dense_2_7_loss: 3.3806e-05 - dense_2_8_loss: 3.0454e-04 - dense_2_9_loss: 2.9007e-04 - dense_2_accuracy: 1.0000 - dense_2_1_accuracy: 1.0000 - dense_2_2_accuracy: 0.9997 - dense_2_3_accuracy: 0.9976 - dense_2_4_accuracy: 1.0000 - dense_2_5_accuracy: 1.0000 - dense_2_6_accuracy: 1.0000 - dense_2_7_accuracy: 1.0000 - dense_2_8_accuracy: 1.0000 - dense_2_9_accuracy: 1.0000\n",
      "Epoch 52/100\n",
      "100/100 [==============================] - 9s 90ms/step - loss: 0.0166 - dense_2_loss: 2.5412e-04 - dense_2_1_loss: 1.5939e-04 - dense_2_2_loss: 0.0019 - dense_2_3_loss: 0.0125 - dense_2_4_loss: 2.1229e-05 - dense_2_5_loss: 4.0182e-04 - dense_2_6_loss: 6.9573e-04 - dense_2_7_loss: 3.3775e-05 - dense_2_8_loss: 2.6580e-04 - dense_2_9_loss: 2.9021e-04 - dense_2_accuracy: 1.0000 - dense_2_1_accuracy: 1.0000 - dense_2_2_accuracy: 0.9997 - dense_2_3_accuracy: 0.9976 - dense_2_4_accuracy: 1.0000 - dense_2_5_accuracy: 1.0000 - dense_2_6_accuracy: 1.0000 - dense_2_7_accuracy: 1.0000 - dense_2_8_accuracy: 1.0000 - dense_2_9_accuracy: 1.0000\n",
      "Epoch 53/100\n",
      "100/100 [==============================] - 9s 92ms/step - loss: 0.0164 - dense_2_loss: 2.4234e-04 - dense_2_1_loss: 1.4991e-04 - dense_2_2_loss: 0.0018 - dense_2_3_loss: 0.0125 - dense_2_4_loss: 2.0333e-05 - dense_2_5_loss: 4.0576e-04 - dense_2_6_loss: 6.7831e-04 - dense_2_7_loss: 3.3293e-05 - dense_2_8_loss: 2.4413e-04 - dense_2_9_loss: 2.8353e-04 - dense_2_accuracy: 1.0000 - dense_2_1_accuracy: 1.0000 - dense_2_2_accuracy: 0.9997 - dense_2_3_accuracy: 0.9976 - dense_2_4_accuracy: 1.0000 - dense_2_5_accuracy: 1.0000 - dense_2_6_accuracy: 1.0000 - dense_2_7_accuracy: 1.0000 - dense_2_8_accuracy: 1.0000 - dense_2_9_accuracy: 1.0000\n",
      "Epoch 54/100\n",
      "100/100 [==============================] - 8s 80ms/step - loss: 0.0158 - dense_2_loss: 2.5874e-04 - dense_2_1_loss: 1.4096e-04 - dense_2_2_loss: 0.0018 - dense_2_3_loss: 0.0119 - dense_2_4_loss: 2.1717e-05 - dense_2_5_loss: 3.9181e-04 - dense_2_6_loss: 6.8237e-04 - dense_2_7_loss: 3.4330e-05 - dense_2_8_loss: 2.4384e-04 - dense_2_9_loss: 2.8229e-04 - dense_2_accuracy: 1.0000 - dense_2_1_accuracy: 1.0000 - dense_2_2_accuracy: 0.9997 - dense_2_3_accuracy: 0.9976 - dense_2_4_accuracy: 1.0000 - dense_2_5_accuracy: 1.0000 - dense_2_6_accuracy: 1.0000 - dense_2_7_accuracy: 1.0000 - dense_2_8_accuracy: 1.0000 - dense_2_9_accuracy: 1.0000\n",
      "Epoch 55/100\n",
      "100/100 [==============================] - 9s 93ms/step - loss: 0.0158 - dense_2_loss: 2.3845e-04 - dense_2_1_loss: 1.5308e-04 - dense_2_2_loss: 0.0018 - dense_2_3_loss: 0.0121 - dense_2_4_loss: 1.9392e-05 - dense_2_5_loss: 3.7147e-04 - dense_2_6_loss: 6.5363e-04 - dense_2_7_loss: 3.4373e-05 - dense_2_8_loss: 2.2372e-04 - dense_2_9_loss: 2.7845e-04 - dense_2_accuracy: 1.0000 - dense_2_1_accuracy: 1.0000 - dense_2_2_accuracy: 0.9997 - dense_2_3_accuracy: 0.9976 - dense_2_4_accuracy: 1.0000 - dense_2_5_accuracy: 1.0000 - dense_2_6_accuracy: 1.0000 - dense_2_7_accuracy: 1.0000 - dense_2_8_accuracy: 1.0000 - dense_2_9_accuracy: 1.0000\n",
      "Epoch 56/100\n",
      "100/100 [==============================] - 9s 93ms/step - loss: 0.0156 - dense_2_loss: 2.4188e-04 - dense_2_1_loss: 1.4614e-04 - dense_2_2_loss: 0.0017 - dense_2_3_loss: 0.0119 - dense_2_4_loss: 1.9433e-05 - dense_2_5_loss: 3.8091e-04 - dense_2_6_loss: 6.4841e-04 - dense_2_7_loss: 3.3345e-05 - dense_2_8_loss: 2.2571e-04 - dense_2_9_loss: 2.7519e-04 - dense_2_accuracy: 1.0000 - dense_2_1_accuracy: 1.0000 - dense_2_2_accuracy: 0.9997 - dense_2_3_accuracy: 0.9976 - dense_2_4_accuracy: 1.0000 - dense_2_5_accuracy: 1.0000 - dense_2_6_accuracy: 1.0000 - dense_2_7_accuracy: 1.0000 - dense_2_8_accuracy: 1.0000 - dense_2_9_accuracy: 1.0000\n",
      "Epoch 57/100\n",
      "100/100 [==============================] - 10s 96ms/step - loss: 0.0153 - dense_2_loss: 2.4151e-04 - dense_2_1_loss: 1.4916e-04 - dense_2_2_loss: 0.0017 - dense_2_3_loss: 0.0117 - dense_2_4_loss: 2.1022e-05 - dense_2_5_loss: 3.4024e-04 - dense_2_6_loss: 6.3100e-04 - dense_2_7_loss: 3.4308e-05 - dense_2_8_loss: 2.1427e-04 - dense_2_9_loss: 2.6420e-04 - dense_2_accuracy: 1.0000 - dense_2_1_accuracy: 1.0000 - dense_2_2_accuracy: 0.9997 - dense_2_3_accuracy: 0.9976 - dense_2_4_accuracy: 1.0000 - dense_2_5_accuracy: 1.0000 - dense_2_6_accuracy: 1.0000 - dense_2_7_accuracy: 1.0000 - dense_2_8_accuracy: 1.0000 - dense_2_9_accuracy: 1.0000\n",
      "Epoch 58/100\n",
      "100/100 [==============================] - 9s 94ms/step - loss: 0.0151 - dense_2_loss: 2.3705e-04 - dense_2_1_loss: 1.4934e-04 - dense_2_2_loss: 0.0017 - dense_2_3_loss: 0.0114 - dense_2_4_loss: 2.0629e-05 - dense_2_5_loss: 3.7033e-04 - dense_2_6_loss: 6.3099e-04 - dense_2_7_loss: 3.3978e-05 - dense_2_8_loss: 2.5018e-04 - dense_2_9_loss: 2.6651e-04 - dense_2_accuracy: 1.0000 - dense_2_1_accuracy: 1.0000 - dense_2_2_accuracy: 0.9997 - dense_2_3_accuracy: 0.9976 - dense_2_4_accuracy: 1.0000 - dense_2_5_accuracy: 1.0000 - dense_2_6_accuracy: 1.0000 - dense_2_7_accuracy: 1.0000 - dense_2_8_accuracy: 1.0000 - dense_2_9_accuracy: 1.0000\n",
      "Epoch 59/100\n",
      "100/100 [==============================] - 8s 82ms/step - loss: 0.0150 - dense_2_loss: 2.3233e-04 - dense_2_1_loss: 1.4670e-04 - dense_2_2_loss: 0.0017 - dense_2_3_loss: 0.0115 - dense_2_4_loss: 2.3660e-05 - dense_2_5_loss: 3.5326e-04 - dense_2_6_loss: 6.1081e-04 - dense_2_7_loss: 3.4418e-05 - dense_2_8_loss: 2.1081e-04 - dense_2_9_loss: 2.5626e-04 - dense_2_accuracy: 1.0000 - dense_2_1_accuracy: 1.0000 - dense_2_2_accuracy: 0.9997 - dense_2_3_accuracy: 0.9976 - dense_2_4_accuracy: 1.0000 - dense_2_5_accuracy: 1.0000 - dense_2_6_accuracy: 1.0000 - dense_2_7_accuracy: 1.0000 - dense_2_8_accuracy: 1.0000 - dense_2_9_accuracy: 1.0000\n",
      "Epoch 60/100\n",
      "100/100 [==============================] - 9s 89ms/step - loss: 0.0148 - dense_2_loss: 2.3114e-04 - dense_2_1_loss: 1.3807e-04 - dense_2_2_loss: 0.0016 - dense_2_3_loss: 0.0113 - dense_2_4_loss: 1.9278e-05 - dense_2_5_loss: 3.4899e-04 - dense_2_6_loss: 6.0886e-04 - dense_2_7_loss: 3.2842e-05 - dense_2_8_loss: 2.0398e-04 - dense_2_9_loss: 2.5405e-04 - dense_2_accuracy: 1.0000 - dense_2_1_accuracy: 1.0000 - dense_2_2_accuracy: 0.9997 - dense_2_3_accuracy: 0.9976 - dense_2_4_accuracy: 1.0000 - dense_2_5_accuracy: 1.0000 - dense_2_6_accuracy: 1.0000 - dense_2_7_accuracy: 1.0000 - dense_2_8_accuracy: 1.0000 - dense_2_9_accuracy: 1.0000\n",
      "Epoch 61/100\n"
     ]
    },
    {
     "name": "stdout",
     "output_type": "stream",
     "text": [
      "100/100 [==============================] - 10s 98ms/step - loss: 0.0144 - dense_2_loss: 2.3359e-04 - dense_2_1_loss: 1.3929e-04 - dense_2_2_loss: 0.0016 - dense_2_3_loss: 0.0110 - dense_2_4_loss: 2.0967e-05 - dense_2_5_loss: 3.4765e-04 - dense_2_6_loss: 5.8133e-04 - dense_2_7_loss: 3.4092e-05 - dense_2_8_loss: 2.0841e-04 - dense_2_9_loss: 2.4629e-04 - dense_2_accuracy: 1.0000 - dense_2_1_accuracy: 1.0000 - dense_2_2_accuracy: 0.9997 - dense_2_3_accuracy: 0.9976 - dense_2_4_accuracy: 1.0000 - dense_2_5_accuracy: 1.0000 - dense_2_6_accuracy: 1.0000 - dense_2_7_accuracy: 1.0000 - dense_2_8_accuracy: 1.0000 - dense_2_9_accuracy: 1.0000\n",
      "Epoch 62/100\n",
      "100/100 [==============================] - 9s 93ms/step - loss: 0.0145 - dense_2_loss: 2.3600e-04 - dense_2_1_loss: 1.4205e-04 - dense_2_2_loss: 0.0016 - dense_2_3_loss: 0.0109 - dense_2_4_loss: 2.0045e-05 - dense_2_5_loss: 3.4240e-04 - dense_2_6_loss: 5.8048e-04 - dense_2_7_loss: 3.3586e-05 - dense_2_8_loss: 2.7996e-04 - dense_2_9_loss: 2.5238e-04 - dense_2_accuracy: 1.0000 - dense_2_1_accuracy: 1.0000 - dense_2_2_accuracy: 0.9997 - dense_2_3_accuracy: 0.9976 - dense_2_4_accuracy: 1.0000 - dense_2_5_accuracy: 1.0000 - dense_2_6_accuracy: 1.0000 - dense_2_7_accuracy: 1.0000 - dense_2_8_accuracy: 1.0000 - dense_2_9_accuracy: 1.0000\n",
      "Epoch 63/100\n",
      "100/100 [==============================] - 7s 73ms/step - loss: 0.0143 - dense_2_loss: 2.2514e-04 - dense_2_1_loss: 1.4807e-04 - dense_2_2_loss: 0.0016 - dense_2_3_loss: 0.0110 - dense_2_4_loss: 2.1344e-05 - dense_2_5_loss: 3.5322e-04 - dense_2_6_loss: 5.7034e-04 - dense_2_7_loss: 3.3215e-05 - dense_2_8_loss: 2.0423e-04 - dense_2_9_loss: 2.4566e-04 - dense_2_accuracy: 1.0000 - dense_2_1_accuracy: 1.0000 - dense_2_2_accuracy: 0.9997 - dense_2_3_accuracy: 0.9976 - dense_2_4_accuracy: 1.0000 - dense_2_5_accuracy: 1.0000 - dense_2_6_accuracy: 1.0000 - dense_2_7_accuracy: 1.0000 - dense_2_8_accuracy: 1.0000 - dense_2_9_accuracy: 1.0000\n",
      "Epoch 64/100\n",
      "100/100 [==============================] - 8s 83ms/step - loss: 0.0140 - dense_2_loss: 2.3006e-04 - dense_2_1_loss: 1.4861e-04 - dense_2_2_loss: 0.0015 - dense_2_3_loss: 0.0107 - dense_2_4_loss: 1.9479e-05 - dense_2_5_loss: 3.3311e-04 - dense_2_6_loss: 5.6392e-04 - dense_2_7_loss: 3.3044e-05 - dense_2_8_loss: 2.0378e-04 - dense_2_9_loss: 2.4258e-04 - dense_2_accuracy: 1.0000 - dense_2_1_accuracy: 1.0000 - dense_2_2_accuracy: 0.9997 - dense_2_3_accuracy: 0.9976 - dense_2_4_accuracy: 1.0000 - dense_2_5_accuracy: 1.0000 - dense_2_6_accuracy: 1.0000 - dense_2_7_accuracy: 1.0000 - dense_2_8_accuracy: 1.0000 - dense_2_9_accuracy: 1.0000\n",
      "Epoch 65/100\n",
      "100/100 [==============================] - 8s 79ms/step - loss: 0.0138 - dense_2_loss: 2.2397e-04 - dense_2_1_loss: 1.4104e-04 - dense_2_2_loss: 0.0016 - dense_2_3_loss: 0.0105 - dense_2_4_loss: 1.9911e-05 - dense_2_5_loss: 3.2851e-04 - dense_2_6_loss: 5.5454e-04 - dense_2_7_loss: 3.2892e-05 - dense_2_8_loss: 1.7699e-04 - dense_2_9_loss: 2.3899e-04 - dense_2_accuracy: 1.0000 - dense_2_1_accuracy: 1.0000 - dense_2_2_accuracy: 0.9997 - dense_2_3_accuracy: 0.9976 - dense_2_4_accuracy: 1.0000 - dense_2_5_accuracy: 1.0000 - dense_2_6_accuracy: 1.0000 - dense_2_7_accuracy: 1.0000 - dense_2_8_accuracy: 1.0000 - dense_2_9_accuracy: 1.0000\n",
      "Epoch 66/100\n",
      "100/100 [==============================] - 9s 87ms/step - loss: 0.0137 - dense_2_loss: 2.2673e-04 - dense_2_1_loss: 1.3564e-04 - dense_2_2_loss: 0.0016 - dense_2_3_loss: 0.0105 - dense_2_4_loss: 2.0705e-05 - dense_2_5_loss: 3.1464e-04 - dense_2_6_loss: 5.3872e-04 - dense_2_7_loss: 3.2884e-05 - dense_2_8_loss: 1.9214e-04 - dense_2_9_loss: 2.4583e-04 - dense_2_accuracy: 1.0000 - dense_2_1_accuracy: 1.0000 - dense_2_2_accuracy: 0.9997 - dense_2_3_accuracy: 0.9977 - dense_2_4_accuracy: 1.0000 - dense_2_5_accuracy: 1.0000 - dense_2_6_accuracy: 1.0000 - dense_2_7_accuracy: 1.0000 - dense_2_8_accuracy: 1.0000 - dense_2_9_accuracy: 1.0000\n",
      "Epoch 67/100\n",
      "100/100 [==============================] - 9s 91ms/step - loss: 0.0134 - dense_2_loss: 2.2005e-04 - dense_2_1_loss: 1.4486e-04 - dense_2_2_loss: 0.0014 - dense_2_3_loss: 0.0103 - dense_2_4_loss: 1.9697e-05 - dense_2_5_loss: 3.0701e-04 - dense_2_6_loss: 5.2062e-04 - dense_2_7_loss: 3.3336e-05 - dense_2_8_loss: 1.9636e-04 - dense_2_9_loss: 2.3386e-04 - dense_2_accuracy: 1.0000 - dense_2_1_accuracy: 1.0000 - dense_2_2_accuracy: 0.9997 - dense_2_3_accuracy: 0.9976 - dense_2_4_accuracy: 1.0000 - dense_2_5_accuracy: 1.0000 - dense_2_6_accuracy: 1.0000 - dense_2_7_accuracy: 1.0000 - dense_2_8_accuracy: 1.0000 - dense_2_9_accuracy: 1.0000\n",
      "Epoch 68/100\n",
      "100/100 [==============================] - 9s 92ms/step - loss: 0.0133 - dense_2_loss: 2.2746e-04 - dense_2_1_loss: 1.4358e-04 - dense_2_2_loss: 0.0015 - dense_2_3_loss: 0.0100 - dense_2_4_loss: 1.9438e-05 - dense_2_5_loss: 3.0517e-04 - dense_2_6_loss: 5.2753e-04 - dense_2_7_loss: 3.3262e-05 - dense_2_8_loss: 2.3232e-04 - dense_2_9_loss: 2.3648e-04 - dense_2_accuracy: 1.0000 - dense_2_1_accuracy: 1.0000 - dense_2_2_accuracy: 0.9997 - dense_2_3_accuracy: 0.9976 - dense_2_4_accuracy: 1.0000 - dense_2_5_accuracy: 1.0000 - dense_2_6_accuracy: 1.0000 - dense_2_7_accuracy: 1.0000 - dense_2_8_accuracy: 1.0000 - dense_2_9_accuracy: 1.0000\n",
      "Epoch 69/100\n",
      " 64/100 [==================>...........] - ETA: 3s - loss: 0.0130 - dense_2_loss: 2.2764e-04 - dense_2_1_loss: 1.5810e-04 - dense_2_2_loss: 0.0019 - dense_2_3_loss: 0.0094 - dense_2_4_loss: 2.1847e-05 - dense_2_5_loss: 3.1667e-04 - dense_2_6_loss: 5.2242e-04 - dense_2_7_loss: 3.2695e-05 - dense_2_8_loss: 2.0457e-04 - dense_2_9_loss: 2.2632e-04 - dense_2_accuracy: 1.0000 - dense_2_1_accuracy: 1.0000 - dense_2_2_accuracy: 0.9995 - dense_2_3_accuracy: 0.9977 - dense_2_4_accuracy: 1.0000 - dense_2_5_accuracy: 1.0000 - dense_2_6_accuracy: 1.0000 - dense_2_7_accuracy: 1.0000 - dense_2_8_accuracy: 1.0000 - dense_2_9_accuracy: 1.0000"
     ]
    },
    {
     "ename": "KeyboardInterrupt",
     "evalue": "",
     "output_type": "error",
     "traceback": [
      "\u001b[1;31m---------------------------------------------------------------------------\u001b[0m",
      "\u001b[1;31mKeyboardInterrupt\u001b[0m                         Traceback (most recent call last)",
      "Input \u001b[1;32mIn [25]\u001b[0m, in \u001b[0;36m<cell line: 1>\u001b[1;34m()\u001b[0m\n\u001b[1;32m----> 1\u001b[0m \u001b[43mmodel\u001b[49m\u001b[38;5;241;43m.\u001b[39;49m\u001b[43mfit\u001b[49m\u001b[43m(\u001b[49m\u001b[43m[\u001b[49m\u001b[43mXoh\u001b[49m\u001b[43m,\u001b[49m\u001b[43m \u001b[49m\u001b[43ms0\u001b[49m\u001b[43m,\u001b[49m\u001b[43m \u001b[49m\u001b[43mc0\u001b[49m\u001b[43m]\u001b[49m\u001b[43m,\u001b[49m\u001b[43m \u001b[49m\u001b[43moutputs\u001b[49m\u001b[43m,\u001b[49m\u001b[43m \u001b[49m\u001b[43mepochs\u001b[49m\u001b[38;5;241;43m=\u001b[39;49m\u001b[38;5;241;43m100\u001b[39;49m\u001b[43m,\u001b[49m\u001b[43m \u001b[49m\u001b[43mbatch_size\u001b[49m\u001b[38;5;241;43m=\u001b[39;49m\u001b[38;5;241;43m100\u001b[39;49m\u001b[43m)\u001b[49m\n",
      "File \u001b[1;32m~\\anaconda3\\lib\\site-packages\\keras\\utils\\traceback_utils.py:64\u001b[0m, in \u001b[0;36mfilter_traceback.<locals>.error_handler\u001b[1;34m(*args, **kwargs)\u001b[0m\n\u001b[0;32m     62\u001b[0m filtered_tb \u001b[38;5;241m=\u001b[39m \u001b[38;5;28;01mNone\u001b[39;00m\n\u001b[0;32m     63\u001b[0m \u001b[38;5;28;01mtry\u001b[39;00m:\n\u001b[1;32m---> 64\u001b[0m   \u001b[38;5;28;01mreturn\u001b[39;00m fn(\u001b[38;5;241m*\u001b[39margs, \u001b[38;5;241m*\u001b[39m\u001b[38;5;241m*\u001b[39mkwargs)\n\u001b[0;32m     65\u001b[0m \u001b[38;5;28;01mexcept\u001b[39;00m \u001b[38;5;167;01mException\u001b[39;00m \u001b[38;5;28;01mas\u001b[39;00m e:  \u001b[38;5;66;03m# pylint: disable=broad-except\u001b[39;00m\n\u001b[0;32m     66\u001b[0m   filtered_tb \u001b[38;5;241m=\u001b[39m _process_traceback_frames(e\u001b[38;5;241m.\u001b[39m__traceback__)\n",
      "File \u001b[1;32m~\\anaconda3\\lib\\site-packages\\keras\\engine\\training.py:1409\u001b[0m, in \u001b[0;36mModel.fit\u001b[1;34m(self, x, y, batch_size, epochs, verbose, callbacks, validation_split, validation_data, shuffle, class_weight, sample_weight, initial_epoch, steps_per_epoch, validation_steps, validation_batch_size, validation_freq, max_queue_size, workers, use_multiprocessing)\u001b[0m\n\u001b[0;32m   1402\u001b[0m \u001b[38;5;28;01mwith\u001b[39;00m tf\u001b[38;5;241m.\u001b[39mprofiler\u001b[38;5;241m.\u001b[39mexperimental\u001b[38;5;241m.\u001b[39mTrace(\n\u001b[0;32m   1403\u001b[0m     \u001b[38;5;124m'\u001b[39m\u001b[38;5;124mtrain\u001b[39m\u001b[38;5;124m'\u001b[39m,\n\u001b[0;32m   1404\u001b[0m     epoch_num\u001b[38;5;241m=\u001b[39mepoch,\n\u001b[0;32m   1405\u001b[0m     step_num\u001b[38;5;241m=\u001b[39mstep,\n\u001b[0;32m   1406\u001b[0m     batch_size\u001b[38;5;241m=\u001b[39mbatch_size,\n\u001b[0;32m   1407\u001b[0m     _r\u001b[38;5;241m=\u001b[39m\u001b[38;5;241m1\u001b[39m):\n\u001b[0;32m   1408\u001b[0m   callbacks\u001b[38;5;241m.\u001b[39mon_train_batch_begin(step)\n\u001b[1;32m-> 1409\u001b[0m   tmp_logs \u001b[38;5;241m=\u001b[39m \u001b[38;5;28;43mself\u001b[39;49m\u001b[38;5;241;43m.\u001b[39;49m\u001b[43mtrain_function\u001b[49m\u001b[43m(\u001b[49m\u001b[43miterator\u001b[49m\u001b[43m)\u001b[49m\n\u001b[0;32m   1410\u001b[0m   \u001b[38;5;28;01mif\u001b[39;00m data_handler\u001b[38;5;241m.\u001b[39mshould_sync:\n\u001b[0;32m   1411\u001b[0m     context\u001b[38;5;241m.\u001b[39masync_wait()\n",
      "File \u001b[1;32m~\\anaconda3\\lib\\site-packages\\tensorflow\\python\\util\\traceback_utils.py:150\u001b[0m, in \u001b[0;36mfilter_traceback.<locals>.error_handler\u001b[1;34m(*args, **kwargs)\u001b[0m\n\u001b[0;32m    148\u001b[0m filtered_tb \u001b[38;5;241m=\u001b[39m \u001b[38;5;28;01mNone\u001b[39;00m\n\u001b[0;32m    149\u001b[0m \u001b[38;5;28;01mtry\u001b[39;00m:\n\u001b[1;32m--> 150\u001b[0m   \u001b[38;5;28;01mreturn\u001b[39;00m fn(\u001b[38;5;241m*\u001b[39margs, \u001b[38;5;241m*\u001b[39m\u001b[38;5;241m*\u001b[39mkwargs)\n\u001b[0;32m    151\u001b[0m \u001b[38;5;28;01mexcept\u001b[39;00m \u001b[38;5;167;01mException\u001b[39;00m \u001b[38;5;28;01mas\u001b[39;00m e:\n\u001b[0;32m    152\u001b[0m   filtered_tb \u001b[38;5;241m=\u001b[39m _process_traceback_frames(e\u001b[38;5;241m.\u001b[39m__traceback__)\n",
      "File \u001b[1;32m~\\anaconda3\\lib\\site-packages\\tensorflow\\python\\eager\\def_function.py:915\u001b[0m, in \u001b[0;36mFunction.__call__\u001b[1;34m(self, *args, **kwds)\u001b[0m\n\u001b[0;32m    912\u001b[0m compiler \u001b[38;5;241m=\u001b[39m \u001b[38;5;124m\"\u001b[39m\u001b[38;5;124mxla\u001b[39m\u001b[38;5;124m\"\u001b[39m \u001b[38;5;28;01mif\u001b[39;00m \u001b[38;5;28mself\u001b[39m\u001b[38;5;241m.\u001b[39m_jit_compile \u001b[38;5;28;01melse\u001b[39;00m \u001b[38;5;124m\"\u001b[39m\u001b[38;5;124mnonXla\u001b[39m\u001b[38;5;124m\"\u001b[39m\n\u001b[0;32m    914\u001b[0m \u001b[38;5;28;01mwith\u001b[39;00m OptionalXlaContext(\u001b[38;5;28mself\u001b[39m\u001b[38;5;241m.\u001b[39m_jit_compile):\n\u001b[1;32m--> 915\u001b[0m   result \u001b[38;5;241m=\u001b[39m \u001b[38;5;28mself\u001b[39m\u001b[38;5;241m.\u001b[39m_call(\u001b[38;5;241m*\u001b[39margs, \u001b[38;5;241m*\u001b[39m\u001b[38;5;241m*\u001b[39mkwds)\n\u001b[0;32m    917\u001b[0m new_tracing_count \u001b[38;5;241m=\u001b[39m \u001b[38;5;28mself\u001b[39m\u001b[38;5;241m.\u001b[39mexperimental_get_tracing_count()\n\u001b[0;32m    918\u001b[0m without_tracing \u001b[38;5;241m=\u001b[39m (tracing_count \u001b[38;5;241m==\u001b[39m new_tracing_count)\n",
      "File \u001b[1;32m~\\anaconda3\\lib\\site-packages\\tensorflow\\python\\eager\\def_function.py:947\u001b[0m, in \u001b[0;36mFunction._call\u001b[1;34m(self, *args, **kwds)\u001b[0m\n\u001b[0;32m    944\u001b[0m   \u001b[38;5;28mself\u001b[39m\u001b[38;5;241m.\u001b[39m_lock\u001b[38;5;241m.\u001b[39mrelease()\n\u001b[0;32m    945\u001b[0m   \u001b[38;5;66;03m# In this case we have created variables on the first call, so we run the\u001b[39;00m\n\u001b[0;32m    946\u001b[0m   \u001b[38;5;66;03m# defunned version which is guaranteed to never create variables.\u001b[39;00m\n\u001b[1;32m--> 947\u001b[0m   \u001b[38;5;28;01mreturn\u001b[39;00m \u001b[38;5;28mself\u001b[39m\u001b[38;5;241m.\u001b[39m_stateless_fn(\u001b[38;5;241m*\u001b[39margs, \u001b[38;5;241m*\u001b[39m\u001b[38;5;241m*\u001b[39mkwds)  \u001b[38;5;66;03m# pylint: disable=not-callable\u001b[39;00m\n\u001b[0;32m    948\u001b[0m \u001b[38;5;28;01melif\u001b[39;00m \u001b[38;5;28mself\u001b[39m\u001b[38;5;241m.\u001b[39m_stateful_fn \u001b[38;5;129;01mis\u001b[39;00m \u001b[38;5;129;01mnot\u001b[39;00m \u001b[38;5;28;01mNone\u001b[39;00m:\n\u001b[0;32m    949\u001b[0m   \u001b[38;5;66;03m# Release the lock early so that multiple threads can perform the call\u001b[39;00m\n\u001b[0;32m    950\u001b[0m   \u001b[38;5;66;03m# in parallel.\u001b[39;00m\n\u001b[0;32m    951\u001b[0m   \u001b[38;5;28mself\u001b[39m\u001b[38;5;241m.\u001b[39m_lock\u001b[38;5;241m.\u001b[39mrelease()\n",
      "File \u001b[1;32m~\\anaconda3\\lib\\site-packages\\tensorflow\\python\\eager\\function.py:2453\u001b[0m, in \u001b[0;36mFunction.__call__\u001b[1;34m(self, *args, **kwargs)\u001b[0m\n\u001b[0;32m   2450\u001b[0m \u001b[38;5;28;01mwith\u001b[39;00m \u001b[38;5;28mself\u001b[39m\u001b[38;5;241m.\u001b[39m_lock:\n\u001b[0;32m   2451\u001b[0m   (graph_function,\n\u001b[0;32m   2452\u001b[0m    filtered_flat_args) \u001b[38;5;241m=\u001b[39m \u001b[38;5;28mself\u001b[39m\u001b[38;5;241m.\u001b[39m_maybe_define_function(args, kwargs)\n\u001b[1;32m-> 2453\u001b[0m \u001b[38;5;28;01mreturn\u001b[39;00m \u001b[43mgraph_function\u001b[49m\u001b[38;5;241;43m.\u001b[39;49m\u001b[43m_call_flat\u001b[49m\u001b[43m(\u001b[49m\n\u001b[0;32m   2454\u001b[0m \u001b[43m    \u001b[49m\u001b[43mfiltered_flat_args\u001b[49m\u001b[43m,\u001b[49m\u001b[43m \u001b[49m\u001b[43mcaptured_inputs\u001b[49m\u001b[38;5;241;43m=\u001b[39;49m\u001b[43mgraph_function\u001b[49m\u001b[38;5;241;43m.\u001b[39;49m\u001b[43mcaptured_inputs\u001b[49m\u001b[43m)\u001b[49m\n",
      "File \u001b[1;32m~\\anaconda3\\lib\\site-packages\\tensorflow\\python\\eager\\function.py:1860\u001b[0m, in \u001b[0;36mConcreteFunction._call_flat\u001b[1;34m(self, args, captured_inputs, cancellation_manager)\u001b[0m\n\u001b[0;32m   1856\u001b[0m possible_gradient_type \u001b[38;5;241m=\u001b[39m gradients_util\u001b[38;5;241m.\u001b[39mPossibleTapeGradientTypes(args)\n\u001b[0;32m   1857\u001b[0m \u001b[38;5;28;01mif\u001b[39;00m (possible_gradient_type \u001b[38;5;241m==\u001b[39m gradients_util\u001b[38;5;241m.\u001b[39mPOSSIBLE_GRADIENT_TYPES_NONE\n\u001b[0;32m   1858\u001b[0m     \u001b[38;5;129;01mand\u001b[39;00m executing_eagerly):\n\u001b[0;32m   1859\u001b[0m   \u001b[38;5;66;03m# No tape is watching; skip to running the function.\u001b[39;00m\n\u001b[1;32m-> 1860\u001b[0m   \u001b[38;5;28;01mreturn\u001b[39;00m \u001b[38;5;28mself\u001b[39m\u001b[38;5;241m.\u001b[39m_build_call_outputs(\u001b[38;5;28;43mself\u001b[39;49m\u001b[38;5;241;43m.\u001b[39;49m\u001b[43m_inference_function\u001b[49m\u001b[38;5;241;43m.\u001b[39;49m\u001b[43mcall\u001b[49m\u001b[43m(\u001b[49m\n\u001b[0;32m   1861\u001b[0m \u001b[43m      \u001b[49m\u001b[43mctx\u001b[49m\u001b[43m,\u001b[49m\u001b[43m \u001b[49m\u001b[43margs\u001b[49m\u001b[43m,\u001b[49m\u001b[43m \u001b[49m\u001b[43mcancellation_manager\u001b[49m\u001b[38;5;241;43m=\u001b[39;49m\u001b[43mcancellation_manager\u001b[49m\u001b[43m)\u001b[49m)\n\u001b[0;32m   1862\u001b[0m forward_backward \u001b[38;5;241m=\u001b[39m \u001b[38;5;28mself\u001b[39m\u001b[38;5;241m.\u001b[39m_select_forward_and_backward_functions(\n\u001b[0;32m   1863\u001b[0m     args,\n\u001b[0;32m   1864\u001b[0m     possible_gradient_type,\n\u001b[0;32m   1865\u001b[0m     executing_eagerly)\n\u001b[0;32m   1866\u001b[0m forward_function, args_with_tangents \u001b[38;5;241m=\u001b[39m forward_backward\u001b[38;5;241m.\u001b[39mforward()\n",
      "File \u001b[1;32m~\\anaconda3\\lib\\site-packages\\tensorflow\\python\\eager\\function.py:497\u001b[0m, in \u001b[0;36m_EagerDefinedFunction.call\u001b[1;34m(self, ctx, args, cancellation_manager)\u001b[0m\n\u001b[0;32m    495\u001b[0m \u001b[38;5;28;01mwith\u001b[39;00m _InterpolateFunctionError(\u001b[38;5;28mself\u001b[39m):\n\u001b[0;32m    496\u001b[0m   \u001b[38;5;28;01mif\u001b[39;00m cancellation_manager \u001b[38;5;129;01mis\u001b[39;00m \u001b[38;5;28;01mNone\u001b[39;00m:\n\u001b[1;32m--> 497\u001b[0m     outputs \u001b[38;5;241m=\u001b[39m \u001b[43mexecute\u001b[49m\u001b[38;5;241;43m.\u001b[39;49m\u001b[43mexecute\u001b[49m\u001b[43m(\u001b[49m\n\u001b[0;32m    498\u001b[0m \u001b[43m        \u001b[49m\u001b[38;5;28;43mstr\u001b[39;49m\u001b[43m(\u001b[49m\u001b[38;5;28;43mself\u001b[39;49m\u001b[38;5;241;43m.\u001b[39;49m\u001b[43msignature\u001b[49m\u001b[38;5;241;43m.\u001b[39;49m\u001b[43mname\u001b[49m\u001b[43m)\u001b[49m\u001b[43m,\u001b[49m\n\u001b[0;32m    499\u001b[0m \u001b[43m        \u001b[49m\u001b[43mnum_outputs\u001b[49m\u001b[38;5;241;43m=\u001b[39;49m\u001b[38;5;28;43mself\u001b[39;49m\u001b[38;5;241;43m.\u001b[39;49m\u001b[43m_num_outputs\u001b[49m\u001b[43m,\u001b[49m\n\u001b[0;32m    500\u001b[0m \u001b[43m        \u001b[49m\u001b[43minputs\u001b[49m\u001b[38;5;241;43m=\u001b[39;49m\u001b[43margs\u001b[49m\u001b[43m,\u001b[49m\n\u001b[0;32m    501\u001b[0m \u001b[43m        \u001b[49m\u001b[43mattrs\u001b[49m\u001b[38;5;241;43m=\u001b[39;49m\u001b[43mattrs\u001b[49m\u001b[43m,\u001b[49m\n\u001b[0;32m    502\u001b[0m \u001b[43m        \u001b[49m\u001b[43mctx\u001b[49m\u001b[38;5;241;43m=\u001b[39;49m\u001b[43mctx\u001b[49m\u001b[43m)\u001b[49m\n\u001b[0;32m    503\u001b[0m   \u001b[38;5;28;01melse\u001b[39;00m:\n\u001b[0;32m    504\u001b[0m     outputs \u001b[38;5;241m=\u001b[39m execute\u001b[38;5;241m.\u001b[39mexecute_with_cancellation(\n\u001b[0;32m    505\u001b[0m         \u001b[38;5;28mstr\u001b[39m(\u001b[38;5;28mself\u001b[39m\u001b[38;5;241m.\u001b[39msignature\u001b[38;5;241m.\u001b[39mname),\n\u001b[0;32m    506\u001b[0m         num_outputs\u001b[38;5;241m=\u001b[39m\u001b[38;5;28mself\u001b[39m\u001b[38;5;241m.\u001b[39m_num_outputs,\n\u001b[1;32m   (...)\u001b[0m\n\u001b[0;32m    509\u001b[0m         ctx\u001b[38;5;241m=\u001b[39mctx,\n\u001b[0;32m    510\u001b[0m         cancellation_manager\u001b[38;5;241m=\u001b[39mcancellation_manager)\n",
      "File \u001b[1;32m~\\anaconda3\\lib\\site-packages\\tensorflow\\python\\eager\\execute.py:54\u001b[0m, in \u001b[0;36mquick_execute\u001b[1;34m(op_name, num_outputs, inputs, attrs, ctx, name)\u001b[0m\n\u001b[0;32m     52\u001b[0m \u001b[38;5;28;01mtry\u001b[39;00m:\n\u001b[0;32m     53\u001b[0m   ctx\u001b[38;5;241m.\u001b[39mensure_initialized()\n\u001b[1;32m---> 54\u001b[0m   tensors \u001b[38;5;241m=\u001b[39m \u001b[43mpywrap_tfe\u001b[49m\u001b[38;5;241;43m.\u001b[39;49m\u001b[43mTFE_Py_Execute\u001b[49m\u001b[43m(\u001b[49m\u001b[43mctx\u001b[49m\u001b[38;5;241;43m.\u001b[39;49m\u001b[43m_handle\u001b[49m\u001b[43m,\u001b[49m\u001b[43m \u001b[49m\u001b[43mdevice_name\u001b[49m\u001b[43m,\u001b[49m\u001b[43m \u001b[49m\u001b[43mop_name\u001b[49m\u001b[43m,\u001b[49m\n\u001b[0;32m     55\u001b[0m \u001b[43m                                      \u001b[49m\u001b[43minputs\u001b[49m\u001b[43m,\u001b[49m\u001b[43m \u001b[49m\u001b[43mattrs\u001b[49m\u001b[43m,\u001b[49m\u001b[43m \u001b[49m\u001b[43mnum_outputs\u001b[49m\u001b[43m)\u001b[49m\n\u001b[0;32m     56\u001b[0m \u001b[38;5;28;01mexcept\u001b[39;00m core\u001b[38;5;241m.\u001b[39m_NotOkStatusException \u001b[38;5;28;01mas\u001b[39;00m e:\n\u001b[0;32m     57\u001b[0m   \u001b[38;5;28;01mif\u001b[39;00m name \u001b[38;5;129;01mis\u001b[39;00m \u001b[38;5;129;01mnot\u001b[39;00m \u001b[38;5;28;01mNone\u001b[39;00m:\n",
      "\u001b[1;31mKeyboardInterrupt\u001b[0m: "
     ]
    }
   ],
   "source": [
    "model.fit([Xoh, s0, c0], outputs, epochs=10, batch_size=100)"
   ]
  },
  {
   "cell_type": "markdown",
   "metadata": {
    "id": "SUikskCoh3Mt"
   },
   "source": [
    "While training you can see the loss as well as the accuracy on each of the 10 positions of the output. The table below gives you an example of what the accuracies could be if the batch had 2 examples: \n",
    "\n",
    "<img src=\"images/table.png\" style=\"width:700;height:200px;\"> <br>\n",
    "<caption><center>Thus, `dense_2_acc_8: 0.89` means that you are predicting the 7th character of the output correctly 89% of the time in the current batch of data. </center></caption>\n",
    "\n",
    "\n",
    "We have run this model for longer, and saved the weights. Run the next cell to load our weights. (By training a model for several minutes, you should be able to obtain a model of similar accuracy, but loading our model will save you time.) "
   ]
  },
  {
   "cell_type": "code",
   "execution_count": 21,
   "metadata": {
    "executionInfo": {
     "elapsed": 47942,
     "status": "ok",
     "timestamp": 1612468545173,
     "user": {
      "displayName": "Mubsi K",
      "photoUrl": "https://lh3.googleusercontent.com/a-/AOh14Gip7OjOkdNkKxKDyWEQAq1o8ccGN_HrBTGdqjgQ=s64",
      "userId": "08094225471505108399"
     },
     "user_tz": -300
    },
    "id": "ooiZCOx0h3Mu"
   },
   "outputs": [],
   "source": [
    "model.load_weights('models/model.h5')"
   ]
  },
  {
   "cell_type": "markdown",
   "metadata": {
    "id": "yUUD9yXxh3Mu"
   },
   "source": [
    "You can now see the results on new examples."
   ]
  },
  {
   "cell_type": "code",
   "execution_count": 22,
   "metadata": {
    "colab": {
     "base_uri": "https://localhost:8080/"
    },
    "executionInfo": {
     "elapsed": 53835,
     "status": "ok",
     "timestamp": 1612468551077,
     "user": {
      "displayName": "Mubsi K",
      "photoUrl": "https://lh3.googleusercontent.com/a-/AOh14Gip7OjOkdNkKxKDyWEQAq1o8ccGN_HrBTGdqjgQ=s64",
      "userId": "08094225471505108399"
     },
     "user_tz": -300
    },
    "id": "rQ8sd_cuh3Mv",
    "outputId": "c37e92ac-5c60-4caf-b843-6aaeaa37be25"
   },
   "outputs": [
    {
     "name": "stdout",
     "output_type": "stream",
     "text": [
      "1/1 [==============================] - 8s 8s/step\n",
      "source: 3 May 1979\n",
      "output: 1979-05-33 \n",
      "\n",
      "1/1 [==============================] - 0s 22ms/step\n",
      "source: 5 April 09\n",
      "output: 2009-04-05 \n",
      "\n",
      "1/1 [==============================] - 0s 21ms/step\n",
      "source: 21th of August 2016\n",
      "output: 2016-08-20 \n",
      "\n",
      "1/1 [==============================] - 0s 21ms/step\n",
      "source: Tue 10 Jul 2007\n",
      "output: 2007-07-10 \n",
      "\n",
      "1/1 [==============================] - 0s 22ms/step\n",
      "source: Saturday May 9 2018\n",
      "output: 2018-05-09 \n",
      "\n",
      "1/1 [==============================] - 0s 21ms/step\n",
      "source: March 3 2001\n",
      "output: 2001-03-03 \n",
      "\n",
      "1/1 [==============================] - 0s 21ms/step\n",
      "source: March 3rd 2001\n",
      "output: 2001-03-03 \n",
      "\n",
      "1/1 [==============================] - 0s 22ms/step\n",
      "source: 1 March 2001\n",
      "output: 2001-03-01 \n",
      "\n"
     ]
    }
   ],
   "source": [
    "EXAMPLES = ['3 May 1979', '5 April 09', '21th of August 2016', 'Tue 10 Jul 2007', 'Saturday May 9 2018', 'March 3 2001', 'March 3rd 2001', '1 March 2001']\n",
    "s00 = np.zeros((1, n_s))\n",
    "c00 = np.zeros((1, n_s))\n",
    "for example in EXAMPLES:\n",
    "    source = string_to_int(example, Tx, human_vocab)\n",
    "    #print(source)\n",
    "    source = np.array(list(map(lambda x: to_categorical(x, num_classes=len(human_vocab)), source))).swapaxes(0,1)\n",
    "    source = np.swapaxes(source, 0, 1)\n",
    "    source = np.expand_dims(source, axis=0)\n",
    "    prediction = model.predict([source, s00, c00])\n",
    "    prediction = np.argmax(prediction, axis = -1)\n",
    "    output = [inv_machine_vocab[int(i)] for i in prediction]\n",
    "    print(\"source:\", example)\n",
    "    print(\"output:\", ''.join(output),\"\\n\")"
   ]
  },
  {
   "cell_type": "markdown",
   "metadata": {
    "id": "vjdEQiIDh3Mv"
   },
   "source": [
    "You can also change these examples to test with your own examples. The next part will give you a better sense of what the attention mechanism is doing--i.e., what part of the input the network is paying attention to when generating a particular output character. "
   ]
  },
  {
   "cell_type": "markdown",
   "metadata": {
    "id": "1XIxtN4xh3Mv"
   },
   "source": [
    "<a name='3'></a>\n",
    "## 3 - Visualizing Attention (Optional / Ungraded)\n",
    "\n",
    "Since the problem has a fixed output length of 10, it is also possible to carry out this task using 10 different softmax units to generate the 10 characters of the output. But one advantage of the attention model is that each part of the output (such as the month) knows it needs to depend only on a small part of the input (the characters in the input giving the month). We can  visualize what each part of the output is looking at which part of the input.\n",
    "\n",
    "Consider the task of translating \"Saturday 9 May 2018\" to \"2018-05-09\". If we visualize the computed $\\alpha^{\\langle t, t' \\rangle}$ we get this: \n",
    "\n",
    "<img src=\"images/date_attention.png\" style=\"width:600;height:300px;\"> <br>\n",
    "<caption><center> **Figure 8**: Full Attention Map</center></caption>\n",
    "\n",
    "Notice how the output ignores the \"Saturday\" portion of the input. None of the output timesteps are paying much attention to that portion of the input. We also see that 9 has been translated as 09 and May has been correctly translated into 05, with the output paying attention to the parts of the input it needs to to make the translation. The year mostly requires it to pay attention to the input's \"18\" in order to generate \"2018.\" "
   ]
  },
  {
   "cell_type": "markdown",
   "metadata": {
    "id": "FrP893IFh3Mv"
   },
   "source": [
    "<a name='3-1'></a>\n",
    "### 3.1 - Getting the Attention Weights From the Network\n",
    "\n",
    "Lets now visualize the attention values in your network. We'll propagate an example through the network, then visualize the values of $\\alpha^{\\langle t, t' \\rangle}$. \n",
    "\n",
    "To figure out where the attention values are located, let's start by printing a summary of the model ."
   ]
  },
  {
   "cell_type": "code",
   "execution_count": 23,
   "metadata": {
    "colab": {
     "base_uri": "https://localhost:8080/"
    },
    "executionInfo": {
     "elapsed": 53826,
     "status": "ok",
     "timestamp": 1612468551078,
     "user": {
      "displayName": "Mubsi K",
      "photoUrl": "https://lh3.googleusercontent.com/a-/AOh14Gip7OjOkdNkKxKDyWEQAq1o8ccGN_HrBTGdqjgQ=s64",
      "userId": "08094225471505108399"
     },
     "user_tz": -300
    },
    "id": "RfiLrfKIh3Mv",
    "outputId": "b6690603-209c-40d7-f352-235a689d1aea"
   },
   "outputs": [
    {
     "name": "stdout",
     "output_type": "stream",
     "text": [
      "Model: \"model_1\"\n",
      "__________________________________________________________________________________________________\n",
      " Layer (type)                   Output Shape         Param #     Connected to                     \n",
      "==================================================================================================\n",
      " input_2 (InputLayer)           [(None, 30, 37)]     0           []                               \n",
      "                                                                                                  \n",
      " s0 (InputLayer)                [(None, 64)]         0           []                               \n",
      "                                                                                                  \n",
      " bidirectional_1 (Bidirectional  (None, 30, 64)      17920       ['input_2[0][0]']                \n",
      " )                                                                                                \n",
      "                                                                                                  \n",
      " repeat_vector (RepeatVector)   (None, 30, 64)       0           ['s0[0][0]',                     \n",
      "                                                                  'lstm[10][0]',                  \n",
      "                                                                  'lstm[11][0]',                  \n",
      "                                                                  'lstm[12][0]',                  \n",
      "                                                                  'lstm[13][0]',                  \n",
      "                                                                  'lstm[14][0]',                  \n",
      "                                                                  'lstm[15][0]',                  \n",
      "                                                                  'lstm[16][0]',                  \n",
      "                                                                  'lstm[17][0]',                  \n",
      "                                                                  'lstm[18][0]']                  \n",
      "                                                                                                  \n",
      " concatenate (Concatenate)      (None, 30, 128)      0           ['bidirectional_1[0][0]',        \n",
      "                                                                  'repeat_vector[10][0]',         \n",
      "                                                                  'bidirectional_1[0][0]',        \n",
      "                                                                  'repeat_vector[11][0]',         \n",
      "                                                                  'bidirectional_1[0][0]',        \n",
      "                                                                  'repeat_vector[12][0]',         \n",
      "                                                                  'bidirectional_1[0][0]',        \n",
      "                                                                  'repeat_vector[13][0]',         \n",
      "                                                                  'bidirectional_1[0][0]',        \n",
      "                                                                  'repeat_vector[14][0]',         \n",
      "                                                                  'bidirectional_1[0][0]',        \n",
      "                                                                  'repeat_vector[15][0]',         \n",
      "                                                                  'bidirectional_1[0][0]',        \n",
      "                                                                  'repeat_vector[16][0]',         \n",
      "                                                                  'bidirectional_1[0][0]',        \n",
      "                                                                  'repeat_vector[17][0]',         \n",
      "                                                                  'bidirectional_1[0][0]',        \n",
      "                                                                  'repeat_vector[18][0]',         \n",
      "                                                                  'bidirectional_1[0][0]',        \n",
      "                                                                  'repeat_vector[19][0]']         \n",
      "                                                                                                  \n",
      " dense (Dense)                  (None, 30, 10)       1290        ['concatenate[10][0]',           \n",
      "                                                                  'concatenate[11][0]',           \n",
      "                                                                  'concatenate[12][0]',           \n",
      "                                                                  'concatenate[13][0]',           \n",
      "                                                                  'concatenate[14][0]',           \n",
      "                                                                  'concatenate[15][0]',           \n",
      "                                                                  'concatenate[16][0]',           \n",
      "                                                                  'concatenate[17][0]',           \n",
      "                                                                  'concatenate[18][0]',           \n",
      "                                                                  'concatenate[19][0]']           \n",
      "                                                                                                  \n",
      " dense_1 (Dense)                (None, 30, 1)        11          ['dense[10][0]',                 \n",
      "                                                                  'dense[11][0]',                 \n",
      "                                                                  'dense[12][0]',                 \n",
      "                                                                  'dense[13][0]',                 \n",
      "                                                                  'dense[14][0]',                 \n",
      "                                                                  'dense[15][0]',                 \n",
      "                                                                  'dense[16][0]',                 \n",
      "                                                                  'dense[17][0]',                 \n",
      "                                                                  'dense[18][0]',                 \n",
      "                                                                  'dense[19][0]']                 \n",
      "                                                                                                  \n",
      " attention_weights (Activation)  (None, 30, 1)       0           ['dense_1[10][0]',               \n",
      "                                                                  'dense_1[11][0]',               \n",
      "                                                                  'dense_1[12][0]',               \n",
      "                                                                  'dense_1[13][0]',               \n",
      "                                                                  'dense_1[14][0]',               \n",
      "                                                                  'dense_1[15][0]',               \n",
      "                                                                  'dense_1[16][0]',               \n",
      "                                                                  'dense_1[17][0]',               \n",
      "                                                                  'dense_1[18][0]',               \n",
      "                                                                  'dense_1[19][0]']               \n",
      "                                                                                                  \n",
      " dot (Dot)                      (None, 1, 64)        0           ['attention_weights[10][0]',     \n",
      "                                                                  'bidirectional_1[0][0]',        \n",
      "                                                                  'attention_weights[11][0]',     \n",
      "                                                                  'bidirectional_1[0][0]',        \n",
      "                                                                  'attention_weights[12][0]',     \n",
      "                                                                  'bidirectional_1[0][0]',        \n",
      "                                                                  'attention_weights[13][0]',     \n",
      "                                                                  'bidirectional_1[0][0]',        \n"
     ]
    },
    {
     "name": "stdout",
     "output_type": "stream",
     "text": [
      "                                                                  'attention_weights[14][0]',     \n",
      "                                                                  'bidirectional_1[0][0]',        \n",
      "                                                                  'attention_weights[15][0]',     \n",
      "                                                                  'bidirectional_1[0][0]',        \n",
      "                                                                  'attention_weights[16][0]',     \n",
      "                                                                  'bidirectional_1[0][0]',        \n",
      "                                                                  'attention_weights[17][0]',     \n",
      "                                                                  'bidirectional_1[0][0]',        \n",
      "                                                                  'attention_weights[18][0]',     \n",
      "                                                                  'bidirectional_1[0][0]',        \n",
      "                                                                  'attention_weights[19][0]',     \n",
      "                                                                  'bidirectional_1[0][0]']        \n",
      "                                                                                                  \n",
      " c0 (InputLayer)                [(None, 64)]         0           []                               \n",
      "                                                                                                  \n",
      " lstm (LSTM)                    [(None, 64),         33024       ['dot[10][0]',                   \n",
      "                                 (None, 64),                      's0[0][0]',                     \n",
      "                                 (None, 64)]                      'c0[0][0]',                     \n",
      "                                                                  'dot[11][0]',                   \n",
      "                                                                  'lstm[10][0]',                  \n",
      "                                                                  'lstm[10][2]',                  \n",
      "                                                                  'dot[12][0]',                   \n",
      "                                                                  'lstm[11][0]',                  \n",
      "                                                                  'lstm[11][2]',                  \n",
      "                                                                  'dot[13][0]',                   \n",
      "                                                                  'lstm[12][0]',                  \n",
      "                                                                  'lstm[12][2]',                  \n",
      "                                                                  'dot[14][0]',                   \n",
      "                                                                  'lstm[13][0]',                  \n",
      "                                                                  'lstm[13][2]',                  \n",
      "                                                                  'dot[15][0]',                   \n",
      "                                                                  'lstm[14][0]',                  \n",
      "                                                                  'lstm[14][2]',                  \n",
      "                                                                  'dot[16][0]',                   \n",
      "                                                                  'lstm[15][0]',                  \n",
      "                                                                  'lstm[15][2]',                  \n",
      "                                                                  'dot[17][0]',                   \n",
      "                                                                  'lstm[16][0]',                  \n",
      "                                                                  'lstm[16][2]',                  \n",
      "                                                                  'dot[18][0]',                   \n",
      "                                                                  'lstm[17][0]',                  \n",
      "                                                                  'lstm[17][2]',                  \n",
      "                                                                  'dot[19][0]',                   \n",
      "                                                                  'lstm[18][0]',                  \n",
      "                                                                  'lstm[18][2]']                  \n",
      "                                                                                                  \n",
      " dense_2 (Dense)                (None, 11)           715         ['lstm[10][0]',                  \n",
      "                                                                  'lstm[11][0]',                  \n",
      "                                                                  'lstm[12][0]',                  \n",
      "                                                                  'lstm[13][0]',                  \n",
      "                                                                  'lstm[14][0]',                  \n",
      "                                                                  'lstm[15][0]',                  \n",
      "                                                                  'lstm[16][0]',                  \n",
      "                                                                  'lstm[17][0]',                  \n",
      "                                                                  'lstm[18][0]',                  \n",
      "                                                                  'lstm[19][0]']                  \n",
      "                                                                                                  \n",
      "==================================================================================================\n",
      "Total params: 52,960\n",
      "Trainable params: 52,960\n",
      "Non-trainable params: 0\n",
      "__________________________________________________________________________________________________\n"
     ]
    }
   ],
   "source": [
    "model.summary()"
   ]
  },
  {
   "cell_type": "markdown",
   "metadata": {
    "id": "zbcprBCPh3Mv"
   },
   "source": [
    "Navigate through the output of `model.summary()` above. You can see that the layer named `attention_weights` outputs the `alphas` of shape (m, 30, 1) before `dot_2` computes the context vector for every time step $t = 0, \\ldots, T_y-1$. Let's get the attention weights from this layer.\n",
    "\n",
    "The function `attention_map()` pulls out the attention values from your model and plots them.\n",
    "\n",
    "**Note**: We are aware that you might run into an error running the cell below despite a valid implementation for Exercise 2 - `modelf` above. If  you get the error kindly report it on this [Topic](https://discourse.deeplearning.ai/t/error-in-optional-ungraded-part-of-neural-machine-translation-w3a1/1096) on [Discourse](https://discourse.deeplearning.ai) as it'll help us improve our content. \n",
    "\n",
    "If you haven’t joined our Discourse community you can do so by clicking on the link: http://bit.ly/dls-discourse\n",
    "\n",
    "And don’t worry about the error, it will not affect the grading for this assignment."
   ]
  },
  {
   "cell_type": "code",
   "execution_count": 24,
   "metadata": {},
   "outputs": [
    {
     "name": "stdout",
     "output_type": "stream",
     "text": [
      "1/1 [==============================] - 0s 21ms/step\n"
     ]
    },
    {
     "data": {
      "text/plain": [
       "<Figure size 432x288 with 0 Axes>"
      ]
     },
     "metadata": {},
     "output_type": "display_data"
    },
    {
     "data": {
      "image/png": "[encoded data removed]",
      "text/plain": [
       "<Figure size 576x612 with 2 Axes>"
      ]
     },
     "metadata": {
      "needs_background": "light"
     },
     "output_type": "display_data"
    }
   ],
   "source": [
    "attention_map = plot_attention_map(model, human_vocab, inv_machine_vocab, \"Tuesday 09 Oct 1993\", num = 7, n_s = 64);"
   ]
  },
  {
   "cell_type": "markdown",
   "metadata": {
    "id": "pQ3qbIjqh3Mx"
   },
   "source": [
    "On the generated plot you can observe the values of the attention weights for each character of the predicted output. Examine this plot and check that the places where the network is paying attention makes sense to you.\n",
    "\n",
    "In the date translation application, you will observe that most of the time attention helps predict the year, and doesn't have much impact on predicting the day or month."
   ]
  },
  {
   "cell_type": "markdown",
   "metadata": {
    "id": "IkpGu1Jkh3Mx"
   },
   "source": [
    "### Congratulations!\n",
    "\n",
    "\n",
    "You have come to the end of this assignment \n",
    "\n",
    "#### Here's what you should remember\n",
    "\n",
    "- Machine translation models can be used to map from one sequence to another. They are useful not just for translating human languages (like French->English) but also for tasks like date format translation. \n",
    "- An attention mechanism allows a network to focus on the most relevant parts of the input when producing a specific part of the output. \n",
    "- A network using an attention mechanism can translate from inputs of length $T_x$ to outputs of length $T_y$, where $T_x$ and $T_y$ can be different. \n",
    "- You can visualize attention weights $\\alpha^{\\langle t,t' \\rangle}$ to see what the network is paying attention to while generating each output."
   ]
  },
  {
   "cell_type": "markdown",
   "metadata": {
    "id": "ZaKA2u4uh3My"
   },
   "source": [
    "Congratulations on finishing this assignment! You are now able to implement an attention model and use it to learn complex mappings from one sequence to another. "
   ]
  }
 ],
 "metadata": {
  "colab": {
   "collapsed_sections": [],
   "name": "Solution_Neural_machine_translation_with_attention_v4a.ipynb",
   "provenance": []
  },
  "coursera": {
   "schema_names": [
    "DLSC5W3-1A"
   ]
  },
  "kernelspec": {
   "display_name": "Python 3 (ipykernel)",
   "language": "python",
   "name": "python3"
  },
  "language_info": {
   "codemirror_mode": {
    "name": "ipython",
    "version": 3
   },
   "file_extension": ".py",
   "mimetype": "text/x-python",
   "name": "python",
   "nbconvert_exporter": "python",
   "pygments_lexer": "ipython3",
   "version": "3.9.12"
  }
 },
 "nbformat": 4,
 "nbformat_minor": 1
}
